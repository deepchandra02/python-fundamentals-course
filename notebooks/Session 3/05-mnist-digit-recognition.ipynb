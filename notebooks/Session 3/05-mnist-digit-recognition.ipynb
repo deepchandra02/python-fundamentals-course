{
 "cells": [
  {
   "cell_type": "markdown",
   "metadata": {},
   "source": "# 🤖 Build Your First AI: Handwritten Digit Recognition!\n\n## Welcome to Machine Learning! 🎉\n\n**What are we building today?**\n\nYou're about to create an AI system that can **read handwritten numbers** - just like how:\n- 📮 **Post offices** automatically sort mail by reading zip codes\n- 🏦 **Banks** process checks by reading handwritten amounts\n- 📱 **Your phone** recognizes handwritten notes\n\n### 📸 Here's What MNIST Digits Look Like:\n\n![MNIST Example Digits](MnistExamples.png)\n\n*Real handwritten digits from the MNIST dataset - notice how everyone writes numbers differently!*\n\n**The Journey:**\n1. ✅ Load a dataset of handwritten digits (1,797 examples!)\n2. ✅ Visualize what the data looks like\n3. ✅ Train an AI model to recognize patterns\n4. ✅ Test it on new digits it's never seen\n5. ✅ Celebrate your AI's accuracy!\n\n**Time required:** 50-60 minutes\n\nLet's build something amazing! 🚀"
  },
  {
   "cell_type": "markdown",
   "metadata": {},
   "source": [
    "---\n",
    "\n",
    "## 📦 Step 0: Import Our Tools\n",
    "\n",
    "First, let's gather all the tools we'll need for this project!"
   ]
  },
  {
   "cell_type": "code",
   "execution_count": 1,
   "metadata": {},
   "outputs": [
    {
     "name": "stdout",
     "output_type": "stream",
     "text": [
      "✅ All libraries imported successfully!\n",
      "🎯 We're ready to build AI!\n"
     ]
    }
   ],
   "source": [
    "# Import all the libraries we'll need\n",
    "import numpy as np\n",
    "import matplotlib.pyplot as plt\n",
    "from sklearn.datasets import load_digits\n",
    "from sklearn.model_selection import train_test_split\n",
    "from sklearn.ensemble import RandomForestClassifier\n",
    "from sklearn.metrics import accuracy_score, confusion_matrix\n",
    "import seaborn as sns\n",
    "\n",
    "# Make our plots look nice\n",
    "plt.style.use('seaborn-v0_8-darkgrid')\n",
    "%matplotlib inline\n",
    "\n",
    "print(\"✅ All libraries imported successfully!\")\n",
    "print(\"🎯 We're ready to build AI!\")"
   ]
  },
  {
   "cell_type": "markdown",
   "metadata": {},
   "source": [
    "---\n",
    "\n",
    "## 🎯 Understanding the Problem\n",
    "\n",
    "### What is Digit Recognition?\n",
    "\n",
    "Imagine you write the number \"7\" on paper. **You** know it's a seven because you learned to recognize numbers as a child. But how does a computer learn to recognize it?\n",
    "\n",
    "**The Challenge:**\n",
    "- Everyone writes numbers differently (sloppy, neat, curly, straight)\n",
    "- Computers only understand numbers, not images\n",
    "- We need to teach the computer patterns that make a \"7\" look like a seven\n",
    "\n",
    "**The Solution: Machine Learning!**\n",
    "- Show the computer thousands of examples of handwritten digits\n",
    "- Let it find patterns in how each digit looks\n",
    "- Test if it can recognize new digits it's never seen before\n",
    "\n",
    "### The MNIST Digits Dataset\n",
    "\n",
    "We'll use a famous dataset called **\"digits\"** (a simplified version of MNIST):\n",
    "- 📊 **1,797 handwritten digits** (0-9)\n",
    "- 🖼️ Each digit is an **8x8 pixel image**\n",
    "- 👥 Written by real people with different handwriting styles\n",
    "- 🎓 Perfect for learning Machine Learning!\n",
    "\n",
    "Let's dive in! 💪"
   ]
  },
  {
   "cell_type": "markdown",
   "metadata": {},
   "source": [
    "---\n",
    "\n",
    "## 📂 Step 1: Load the Dataset\n",
    "\n",
    "Time to get our hands on real data! We'll load the digits dataset and explore what's inside."
   ]
  },
  {
   "cell_type": "code",
   "execution_count": 2,
   "metadata": {},
   "outputs": [
    {
     "name": "stdout",
     "output_type": "stream",
     "text": [
      "🎉 Dataset loaded successfully!\n",
      "\n",
      "📊 Dataset Information:\n",
      "   Total number of samples: 1797\n",
      "   Image dimensions: (8, 8) (8 pixels x 8 pixels)\n",
      "   Number of features per sample: 64\n",
      "   Number of classes (digits 0-9): 10\n",
      "\n",
      "🔍 Let's peek at the data structure:\n",
      "   Images shape: (1797, 8, 8)\n",
      "   Labels shape: (1797,)\n",
      "   Labels (first 20): [0 1 2 3 4 5 6 7 8 9 0 1 2 3 4 5 6 7 8 9]\n"
     ]
    }
   ],
   "source": [
    "# Load the digits dataset\n",
    "digits = load_digits()\n",
    "\n",
    "# Let's see what we have!\n",
    "print(\"🎉 Dataset loaded successfully!\\n\")\n",
    "print(\"📊 Dataset Information:\")\n",
    "print(f\"   Total number of samples: {len(digits.images)}\")\n",
    "print(f\"   Image dimensions: {digits.images[0].shape} (8 pixels x 8 pixels)\")\n",
    "print(f\"   Number of features per sample: {digits.data.shape[1]}\")\n",
    "print(f\"   Number of classes (digits 0-9): {len(np.unique(digits.target))}\")\n",
    "\n",
    "print(\"\\n🔍 Let's peek at the data structure:\")\n",
    "print(f\"   Images shape: {digits.images.shape}\")\n",
    "print(f\"   Labels shape: {digits.target.shape}\")\n",
    "print(f\"   Labels (first 20): {digits.target[:20]}\")"
   ]
  },
  {
   "cell_type": "markdown",
   "metadata": {},
   "source": [
    "### 💡 What does this mean?\n",
    "\n",
    "- **1,797 samples**: We have 1,797 handwritten digits to work with\n",
    "- **8x8 images**: Each digit is a tiny 8x8 pixel image\n",
    "- **64 features**: When flattened, each 8x8 image becomes 64 numbers (8 × 8 = 64)\n",
    "- **10 classes**: Digits from 0 to 9\n",
    "\n",
    "### 🎯 YOUR TURN!\n",
    "\n",
    "**TODO:** Print the shape of the images array to see how many digits we have and their dimensions."
   ]
  },
  {
   "cell_type": "code",
   "execution_count": null,
   "metadata": {},
   "outputs": [],
   "source": [
    "# TODO: Print the shape of digits.images\n",
    "# Hint: Use digits.images.shape\n",
    "\n",
    "# YOUR CODE HERE:\n"
   ]
  },
  {
   "cell_type": "markdown",
   "metadata": {},
   "source": [
    "---\n",
    "\n",
    "## 👀 Step 2: Visualize the Data\n",
    "\n",
    "Let's actually **see** what these handwritten digits look like! Seeing is believing! 🎨"
   ]
  },
  {
   "cell_type": "code",
   "execution_count": null,
   "metadata": {},
   "outputs": [],
   "source": [
    "# Create a 2x5 grid to display 10 sample digits\n",
    "fig, axes = plt.subplots(2, 5, figsize=(12, 5))\n",
    "fig.suptitle('🖼️ Sample Handwritten Digits from Our Dataset', fontsize=16, fontweight='bold')\n",
    "\n",
    "# Display the first 10 digits\n",
    "for i, ax in enumerate(axes.flat):\n",
    "    # Display the image\n",
    "    ax.imshow(digits.images[i], cmap='viridis', interpolation='nearest')\n",
    "    ax.set_title(f'Label: {digits.target[i]}', fontsize=12, fontweight='bold')\n",
    "    ax.axis('off')\n",
    "\n",
    "plt.tight_layout()\n",
    "plt.show()\n",
    "\n",
    "print(\"\\n✨ Pretty cool, right? These are real handwritten digits!\")\n",
    "print(\"📝 Notice how each person writes numbers differently.\")\n",
    "print(\"🤖 Our AI will learn to recognize ALL these variations!\")"
   ]
  },
  {
   "cell_type": "markdown",
   "metadata": {},
   "source": [
    "### 🎯 YOUR TURN!\n",
    "\n",
    "**TODO:** Display digits 10-14 (5 digits total) with their labels. Create your own visualization!"
   ]
  },
  {
   "cell_type": "code",
   "execution_count": null,
   "metadata": {},
   "outputs": [],
   "source": [
    "# TODO: Create a 1x5 grid showing digits 10-14\n",
    "# Hint: Use plt.subplots(1, 5) and loop through indices 10 to 14\n",
    "\n",
    "# YOUR CODE HERE:\n"
   ]
  },
  {
   "cell_type": "markdown",
   "metadata": {},
   "source": [
    "---\n",
    "\n",
    "## 🔢 Step 3: Understanding the Data Format\n",
    "\n",
    "**How does an image become numbers?**\n",
    "\n",
    "Computers can't \"see\" images like we do. They need numbers! Here's the magic:\n",
    "\n",
    "1. **8x8 Image**: Each digit is an 8×8 grid of pixels (tiny squares)\n",
    "2. **Pixel Values**: Each pixel has a brightness value (0 = white, 16 = black)\n",
    "3. **Flatten to Array**: We convert the 8×8 grid into a single line of 64 numbers\n",
    "\n",
    "**Example:**\n",
    "```\n",
    "8x8 Image Grid     →     64 Numbers in a Row\n",
    "[ 0  0  5 13 ...]         [0, 0, 5, 13, 9, 1, 0, 0, ...]\n",
    "[ 0  0 13 15 ...]\n",
    "[... (8 rows) ...]\n",
    "```\n",
    "\n",
    "Let's see this in action! 👇"
   ]
  },
  {
   "cell_type": "code",
   "execution_count": null,
   "metadata": {},
   "outputs": [],
   "source": [
    "# Pick digit at index 0 to examine\n",
    "sample_index = 0\n",
    "sample_digit = digits.images[sample_index]\n",
    "sample_label = digits.target[sample_index]\n",
    "\n",
    "# Create side-by-side visualization\n",
    "fig, (ax1, ax2) = plt.subplots(1, 2, figsize=(12, 4))\n",
    "\n",
    "# Left: Show the image\n",
    "ax1.imshow(sample_digit, cmap='gray', interpolation='nearest')\n",
    "ax1.set_title(f'🖼️ Visual Representation\\nThis is a \"{sample_label}\"', fontsize=12, fontweight='bold')\n",
    "ax1.axis('off')\n",
    "\n",
    "# Right: Show the numbers\n",
    "ax2.axis('off')\n",
    "ax2.set_title('🔢 As Numbers (8x8 Grid)', fontsize=12, fontweight='bold')\n",
    "table_data = sample_digit.astype(int)\n",
    "table = ax2.table(cellText=table_data, cellLoc='center', loc='center',\n",
    "                  bbox=[0, 0, 1, 1])\n",
    "table.auto_set_font_size(False)\n",
    "table.set_fontsize(9)\n",
    "table.scale(1, 2)\n",
    "\n",
    "plt.tight_layout()\n",
    "plt.show()\n",
    "\n",
    "print(\"\\n📊 Understanding the Data:\")\n",
    "print(f\"   Image shape: {sample_digit.shape} (8 rows × 8 columns)\")\n",
    "print(f\"   When flattened: {digits.data[sample_index].shape} (64 features in one row)\")\n",
    "print(f\"   Label (what digit it is): {sample_label}\")\n",
    "print(\"\\n💡 Key Insight:\")\n",
    "print(\"   Features = The 64 pixel values (our input data)\")\n",
    "print(\"   Label = The actual digit 0-9 (what we want to predict)\")"
   ]
  },
  {
   "cell_type": "markdown",
   "metadata": {},
   "source": [
    "---\n",
    "\n",
    "## ✂️ Step 4: Split the Data\n",
    "\n",
    "### Why do we split data into Training and Testing sets?\n",
    "\n",
    "Think of it like studying for an exam! 📚\n",
    "\n",
    "- **Training Set (80%)**: These are your practice problems. The AI learns patterns from these.\n",
    "- **Test Set (20%)**: These are the final exam questions. The AI has NEVER seen these before!\n",
    "\n",
    "**Why this matters:**\n",
    "- ✅ If the AI just memorized the training data, it would be like memorizing answers without understanding\n",
    "- ✅ Testing on NEW data proves the AI truly learned patterns, not just memorized\n",
    "- ✅ This is how we know our AI will work on real handwriting in the wild!\n",
    "\n",
    "**The Golden Rule:** NEVER let the AI peek at the test set during training! 🙈"
   ]
  },
  {
   "cell_type": "code",
   "execution_count": null,
   "metadata": {},
   "outputs": [],
   "source": [
    "# Prepare the data\n",
    "X = digits.data  # Features (64 pixel values per digit)\n",
    "y = digits.target  # Labels (the actual digit 0-9)\n",
    "\n",
    "# Split into training (80%) and testing (20%)\n",
    "X_train, X_test, y_train, y_test = train_test_split(\n",
    "    X, y, test_size=0.2, random_state=42\n",
    ")\n",
    "\n",
    "print(\"✂️ Data Split Complete!\\n\")\n",
    "print(\"📊 Dataset Breakdown:\")\n",
    "print(f\"   Total samples: {len(X)}\")\n",
    "print(f\"   Training samples: {len(X_train)} ({len(X_train)/len(X)*100:.1f}%)\")\n",
    "print(f\"   Testing samples: {len(X_test)} ({len(X_test)/len(X)*100:.1f}%)\")\n",
    "\n",
    "print(\"\\n🎓 Training Set: Our AI will learn from these\")\n",
    "print(f\"   X_train shape: {X_train.shape} (samples × features)\")\n",
    "print(f\"   y_train shape: {y_train.shape}\")\n",
    "\n",
    "print(\"\\n🎯 Test Set: We'll evaluate on these UNSEEN digits\")\n",
    "print(f\"   X_test shape: {X_test.shape}\")\n",
    "print(f\"   y_test shape: {y_test.shape}\")\n",
    "\n",
    "print(\"\\n✅ Ready for training!\")"
   ]
  },
  {
   "cell_type": "markdown",
   "metadata": {},
   "source": [
    "### 🎯 YOUR TURN!\n",
    "\n",
    "**TODO:** Calculate what percentage of the data is used for testing. The formula is: `(test_samples / total_samples) × 100`"
   ]
  },
  {
   "cell_type": "code",
   "execution_count": null,
   "metadata": {},
   "outputs": [],
   "source": [
    "# TODO: Calculate the testing percentage\n",
    "# Hint: (len(X_test) / len(X)) * 100\n",
    "\n",
    "# YOUR CODE HERE:\n"
   ]
  },
  {
   "cell_type": "markdown",
   "metadata": {},
   "source": [
    "---\n",
    "\n",
    "## 🧠 Step 5: Choose and Train the Model\n",
    "\n",
    "### What is Machine Learning?\n",
    "\n",
    "Imagine teaching a child to recognize dogs:\n",
    "1. Show them **many pictures** of dogs (training data)\n",
    "2. They start noticing **patterns**: four legs, tail, fur, wet nose\n",
    "3. Now they can recognize **new dogs** they've never seen before!\n",
    "\n",
    "Machine Learning works the same way! 🐕\n",
    "\n",
    "### Our Model: Random Forest Classifier\n",
    "\n",
    "Think of it as a **committee of decision trees**:\n",
    "- 🌳 We create 100 \"decision trees\"\n",
    "- 🗳️ Each tree votes on what digit it thinks it is\n",
    "- 🏆 Majority vote wins!\n",
    "\n",
    "**Why Random Forest?**\n",
    "- ✅ Great for beginners (easy to use!)\n",
    "- ✅ Works well out-of-the-box\n",
    "- ✅ Very accurate for digit recognition\n",
    "- ✅ Handles the complexity of different handwriting styles\n",
    "\n",
    "Let's train it! 🚀"
   ]
  },
  {
   "cell_type": "code",
   "execution_count": null,
   "metadata": {},
   "outputs": [],
   "source": [
    "# Create our Random Forest model\n",
    "# n_estimators=100 means we'll use 100 decision trees\n",
    "model = RandomForestClassifier(n_estimators=100, random_state=42)\n",
    "\n",
    "print(\"🌳 Creating Random Forest with 100 decision trees...\\n\")\n",
    "print(\"📚 Training the model on 1,437 handwritten digits...\")\n",
    "print(\"⏳ This might take a few seconds...\\n\")\n",
    "\n",
    "# Train the model on our training data\n",
    "model.fit(X_train, y_train)\n",
    "\n",
    "print(\"🎉 MODEL TRAINED SUCCESSFULLY! 🎉\")\n",
    "print(\"\\n✨ What just happened?\")\n",
    "print(\"   1. The model looked at 1,437 handwritten digits\")\n",
    "print(\"   2. It found patterns in how each digit (0-9) looks\")\n",
    "print(\"   3. It learned which pixel patterns correspond to which number\")\n",
    "print(\"   4. Now it's ready to recognize NEW digits it's never seen!\")\n",
    "print(\"\\n🚀 Let's test it out!\")"
   ]
  },
  {
   "cell_type": "markdown",
   "metadata": {},
   "source": [
    "### 💡 What does \"training\" mean?\n",
    "\n",
    "During training, the model:\n",
    "- 🔍 Analyzed thousands of pixel patterns\n",
    "- 📊 Found which patterns are common for each digit\n",
    "- 🧩 Built decision rules (e.g., \"if pixels in center are dark AND top-right is light, might be a 2\")\n",
    "- 💾 Stored these patterns in memory\n",
    "\n",
    "Now it's a digit recognition expert! 🏆"
   ]
  },
  {
   "cell_type": "markdown",
   "metadata": {},
   "source": [
    "---\n",
    "\n",
    "## 🔮 Step 6: Make Predictions\n",
    "\n",
    "Time for the moment of truth! Let's see if our AI can recognize digits it has NEVER seen before! 🎯"
   ]
  },
  {
   "cell_type": "code",
   "execution_count": null,
   "metadata": {},
   "outputs": [],
   "source": [
    "# Use our trained model to predict the test set\n",
    "y_pred = model.predict(X_test)\n",
    "\n",
    "print(\"🔮 Making predictions on 360 unseen digits...\\n\")\n",
    "\n",
    "# Show the first 10 predictions vs actual labels\n",
    "print(\"📊 First 10 Predictions vs Actual Labels:\\n\")\n",
    "print(\"   Index | Predicted | Actual | Correct?\")\n",
    "print(\"   \" + \"-\" * 42)\n",
    "\n",
    "for i in range(10):\n",
    "    is_correct = \"✅\" if y_pred[i] == y_test[i] else \"❌\"\n",
    "    print(f\"   {i:5d} | {y_pred[i]:9d} | {y_test[i]:6d} | {is_correct}\")\n",
    "\n",
    "# Calculate how many were correct\n",
    "correct_predictions = np.sum(y_pred == y_test)\n",
    "total_predictions = len(y_test)\n",
    "\n",
    "print(f\"\\n🎯 Quick Stats:\")\n",
    "print(f\"   Correct predictions: {correct_predictions} out of {total_predictions}\")\n",
    "print(f\"   That's {correct_predictions/total_predictions*100:.1f}% accuracy! 🎉\")"
   ]
  },
  {
   "cell_type": "markdown",
   "metadata": {},
   "source": [
    "### 🎯 YOUR TURN!\n",
    "\n",
    "**TODO:** Check if prediction at index 5 matches the actual label. Print whether it's correct or incorrect."
   ]
  },
  {
   "cell_type": "code",
   "execution_count": null,
   "metadata": {},
   "outputs": [],
   "source": [
    "# TODO: Check if y_pred[5] equals y_test[5]\n",
    "# Print a message saying if it's correct or not\n",
    "\n",
    "# YOUR CODE HERE:\n"
   ]
  },
  {
   "cell_type": "markdown",
   "metadata": {},
   "source": [
    "---\n",
    "\n",
    "## 🎨 Step 7: Visualize Predictions\n",
    "\n",
    "Let's actually **SEE** what the model predicted! We'll show:\n",
    "- ✅ **Green borders** for correct predictions\n",
    "- ❌ **Red borders** for incorrect predictions\n",
    "\n",
    "This is where it gets exciting! 🎬"
   ]
  },
  {
   "cell_type": "code",
   "execution_count": null,
   "metadata": {},
   "outputs": [],
   "source": [
    "# Create a 2x5 grid to visualize 10 predictions\n",
    "fig, axes = plt.subplots(2, 5, figsize=(14, 6))\n",
    "fig.suptitle('🎯 Model Predictions vs Actual Labels', fontsize=16, fontweight='bold')\n",
    "\n",
    "# Get the actual images from the test set\n",
    "# We need to reshape them back to 8x8 for display\n",
    "test_images = X_test[:10].reshape(-1, 8, 8)\n",
    "\n",
    "for i, ax in enumerate(axes.flat):\n",
    "    # Display the image\n",
    "    ax.imshow(test_images[i], cmap='Blues', interpolation='nearest')\n",
    "    \n",
    "    # Check if prediction is correct\n",
    "    is_correct = y_pred[i] == y_test[i]\n",
    "    \n",
    "    # Set border color: green if correct, red if wrong\n",
    "    border_color = 'green' if is_correct else 'red'\n",
    "    status = '✅ Correct!' if is_correct else '❌ Wrong'\n",
    "    \n",
    "    # Set title with prediction and actual\n",
    "    title = f'Predicted: {y_pred[i]}\\nActual: {y_test[i]}\\n{status}'\n",
    "    ax.set_title(title, fontsize=10, fontweight='bold', color=border_color)\n",
    "    \n",
    "    # Add colored border\n",
    "    for spine in ax.spines.values():\n",
    "        spine.set_edgecolor(border_color)\n",
    "        spine.set_linewidth(3)\n",
    "    \n",
    "    ax.axis('off')\n",
    "\n",
    "plt.tight_layout()\n",
    "plt.show()\n",
    "\n",
    "print(\"\\n🎨 Visual Prediction Results:\")\n",
    "correct_in_sample = np.sum(y_pred[:10] == y_test[:10])\n",
    "print(f\"   Correct in this sample: {correct_in_sample}/10\")\n",
    "print(f\"   The model is doing great! 🎉\")"
   ]
  },
  {
   "cell_type": "markdown",
   "metadata": {},
   "source": [
    "### 💡 What are we seeing?\n",
    "\n",
    "- **Green borders** = Our AI got it right! 🎯\n",
    "- **Red borders** = Our AI made a mistake (even AI isn't perfect!)\n",
    "- Notice how the AI handles different handwriting styles!\n",
    "\n",
    "Even when humans write numbers differently, our AI can usually figure it out! 🧠"
   ]
  },
  {
   "cell_type": "markdown",
   "metadata": {},
   "source": [
    "---\n",
    "\n",
    "## 📈 Step 8: Evaluate the Model\n",
    "\n",
    "Now let's get the **official score** for our AI! We'll calculate:\n",
    "1. **Accuracy Score**: What percentage did it get right?\n",
    "2. **Confusion Matrix**: Which digits does it confuse most often?\n",
    "\n",
    "This is like getting your report card! 📊"
   ]
  },
  {
   "cell_type": "code",
   "execution_count": null,
   "metadata": {},
   "outputs": [],
   "source": [
    "# Calculate accuracy score\n",
    "accuracy = accuracy_score(y_test, y_pred)\n",
    "\n",
    "print(\"🏆 FINAL MODEL EVALUATION 🏆\\n\")\n",
    "print(\"=\" * 50)\n",
    "print(f\"\\n   ACCURACY: {accuracy * 100:.2f}%\\n\")\n",
    "print(\"=\" * 50)\n",
    "\n",
    "print(\"\\n💡 What does this mean?\")\n",
    "print(f\"   Out of every 100 handwritten digits,\")\n",
    "print(f\"   our AI correctly identifies {accuracy * 100:.0f} of them!\")\n",
    "print(\"\\n🎉 That's AMAZING for a first AI project!\")\n",
    "\n",
    "# Show some context\n",
    "if accuracy > 0.95:\n",
    "    print(\"\\n🌟 OUTSTANDING! Your model is performing at expert level!\")\n",
    "elif accuracy > 0.90:\n",
    "    print(\"\\n⭐ EXCELLENT! Your model is highly accurate!\")\n",
    "elif accuracy > 0.85:\n",
    "    print(\"\\n👍 VERY GOOD! Your model is quite reliable!\")\n",
    "else:\n",
    "    print(\"\\n📚 GOOD START! There's room for improvement!\")"
   ]
  },
  {
   "cell_type": "code",
   "execution_count": null,
   "metadata": {},
   "outputs": [],
   "source": [
    "# Create and visualize the confusion matrix\n",
    "cm = confusion_matrix(y_test, y_pred)\n",
    "\n",
    "# Create a beautiful heatmap\n",
    "plt.figure(figsize=(10, 8))\n",
    "sns.heatmap(cm, annot=True, fmt='d', cmap='Blues', \n",
    "            xticklabels=range(10), yticklabels=range(10),\n",
    "            cbar_kws={'label': 'Number of Predictions'})\n",
    "plt.title('🎯 Confusion Matrix: Where Does Our AI Make Mistakes?\\n', \n",
    "          fontsize=14, fontweight='bold')\n",
    "plt.xlabel('\\nPredicted Digit', fontsize=12, fontweight='bold')\n",
    "plt.ylabel('Actual Digit\\n', fontsize=12, fontweight='bold')\n",
    "plt.tight_layout()\n",
    "plt.show()\n",
    "\n",
    "print(\"\\n📊 How to Read the Confusion Matrix:\")\n",
    "print(\"   - Rows = Actual digit (what it really was)\")\n",
    "print(\"   - Columns = Predicted digit (what AI thought it was)\")\n",
    "print(\"   - Diagonal (dark blue) = Correct predictions! ✅\")\n",
    "print(\"   - Off-diagonal = Mistakes ❌\")\n",
    "print(\"\\n💡 Example: If you see a number at row 3, column 8,\")\n",
    "print(\"   it means the AI confused a '3' for an '8' that many times.\")"
   ]
  },
  {
   "cell_type": "markdown",
   "metadata": {},
   "source": [
    "### 🎯 YOUR TURN!\n",
    "\n",
    "**TODO:** Look at the confusion matrix above and answer: Which digit does the model confuse most often? (Look for the highest off-diagonal number)"
   ]
  },
  {
   "cell_type": "code",
   "execution_count": null,
   "metadata": {},
   "outputs": [],
   "source": [
    "# TODO: Analyze the confusion matrix\n",
    "# Which two digits does the model confuse most?\n",
    "# Write your answer as a comment or print statement\n",
    "\n",
    "# YOUR ANSWER HERE:\n"
   ]
  },
  {
   "cell_type": "markdown",
   "metadata": {},
   "source": [
    "---\n",
    "\n",
    "## 🔍 Step 9: Test on Specific Examples\n",
    "\n",
    "Let's create a function to test our AI on ANY digit from the test set! \n",
    "\n",
    "This is like having a **playground** to explore how well your AI works! 🎮"
   ]
  },
  {
   "cell_type": "code",
   "execution_count": null,
   "metadata": {},
   "outputs": [],
   "source": [
    "def test_digit(index):\n",
    "    \"\"\"\n",
    "    Test the model on a specific digit from the test set\n",
    "    \n",
    "    Parameters:\n",
    "    index (int): The index of the test sample to check (0 to 359)\n",
    "    \"\"\"\n",
    "    if index < 0 or index >= len(X_test):\n",
    "        print(f\"❌ Index must be between 0 and {len(X_test)-1}\")\n",
    "        return\n",
    "    \n",
    "    # Get the digit and make prediction\n",
    "    digit_image = X_test[index].reshape(8, 8)\n",
    "    prediction = model.predict([X_test[index]])[0]\n",
    "    actual = y_test[index]\n",
    "    \n",
    "    # Create visualization\n",
    "    fig, ax = plt.subplots(1, 1, figsize=(6, 6))\n",
    "    ax.imshow(digit_image, cmap='viridis', interpolation='nearest')\n",
    "    \n",
    "    # Check if correct\n",
    "    is_correct = prediction == actual\n",
    "    result = \"✅ CORRECT!\" if is_correct else \"❌ WRONG!\"\n",
    "    color = 'green' if is_correct else 'red'\n",
    "    \n",
    "    ax.set_title(f'Test Sample #{index}\\n\\n' + \n",
    "                 f'AI Predicted: {prediction}\\n' +\n",
    "                 f'Actual Label: {actual}\\n\\n' +\n",
    "                 f'{result}',\n",
    "                 fontsize=14, fontweight='bold', color=color)\n",
    "    ax.axis('off')\n",
    "    \n",
    "    # Add border\n",
    "    for spine in ax.spines.values():\n",
    "        spine.set_edgecolor(color)\n",
    "        spine.set_linewidth(4)\n",
    "    \n",
    "    plt.tight_layout()\n",
    "    plt.show()\n",
    "    \n",
    "    # Print details\n",
    "    if is_correct:\n",
    "        print(f\"\\n🎯 The AI correctly identified this as a '{actual}'!\")\n",
    "    else:\n",
    "        print(f\"\\n🤔 The AI thought this '{actual}' was a '{prediction}'\")\n",
    "        print(f\"   Even AI makes mistakes sometimes!\")\n",
    "\n",
    "# Test it on a few examples\n",
    "print(\"🎮 Testing AI on specific digits...\\n\")\n",
    "test_digit(0)"
   ]
  },
  {
   "cell_type": "code",
   "execution_count": null,
   "metadata": {},
   "outputs": [],
   "source": [
    "# Try a few more!\n",
    "test_digit(25)"
   ]
  },
  {
   "cell_type": "markdown",
   "metadata": {},
   "source": [
    "### 🎯 YOUR TURN!\n",
    "\n",
    "**TODO:** Test the model on indices 50, 100, and 150. See how it performs on different samples!"
   ]
  },
  {
   "cell_type": "code",
   "execution_count": null,
   "metadata": {},
   "outputs": [],
   "source": [
    "# TODO: Call test_digit() three times with indices 50, 100, and 150\n",
    "# See how the model performs on these different samples\n",
    "\n",
    "# YOUR CODE HERE:\n"
   ]
  },
  {
   "cell_type": "markdown",
   "metadata": {},
   "source": [
    "---\n",
    "\n",
    "## 🎓 Step 10: Understanding What We Built\n",
    "\n",
    "### Let's Recap the Complete Machine Learning Pipeline! 🚀\n",
    "\n",
    "Congratulations! You just completed a FULL Machine Learning project from start to finish! Here's what we did:\n",
    "\n",
    "### The Complete ML Workflow:\n",
    "\n",
    "```\n",
    "1. 📂 LOAD DATA\n",
    "   ↓\n",
    "   - Got 1,797 handwritten digit images\n",
    "   - Each digit is 8×8 pixels = 64 features\n",
    "   \n",
    "2. 👀 EXPLORE & VISUALIZE\n",
    "   ↓\n",
    "   - Looked at the actual images\n",
    "   - Understood how images become numbers\n",
    "   - Saw different handwriting styles\n",
    "   \n",
    "3. ✂️ SPLIT DATA\n",
    "   ↓\n",
    "   - 80% for training (teaching the AI)\n",
    "   - 20% for testing (evaluating the AI)\n",
    "   - Never let AI peek at test data!\n",
    "   \n",
    "4. 🧠 TRAIN MODEL\n",
    "   ↓\n",
    "   - Used Random Forest (100 decision trees)\n",
    "   - Fed it 1,437 training examples\n",
    "   - AI learned patterns for each digit 0-9\n",
    "   \n",
    "5. 🔮 MAKE PREDICTIONS\n",
    "   ↓\n",
    "   - Tested on 360 unseen digits\n",
    "   - AI made educated guesses based on patterns\n",
    "   \n",
    "6. 📊 EVALUATE PERFORMANCE\n",
    "   ↓\n",
    "   - Calculated accuracy score (95%+!)\n",
    "   - Analyzed confusion matrix\n",
    "   - Found which digits get confused\n",
    "   \n",
    "7. 🎯 TEST & EXPLORE\n",
    "   ↓\n",
    "   - Tested individual predictions\n",
    "   - Visualized successes and failures\n",
    "   - Understood AI's decision-making\n",
    "```\n",
    "\n",
    "### Key Concepts You Mastered:\n",
    "\n",
    "1. **Supervised Learning**: Teaching AI with labeled examples (digit images + correct answers)\n",
    "2. **Features**: The input data (64 pixel values per image)\n",
    "3. **Labels**: The output we want to predict (digits 0-9)\n",
    "4. **Training**: AI learning patterns from data\n",
    "5. **Testing**: Evaluating AI on unseen data\n",
    "6. **Accuracy**: Percentage of correct predictions\n",
    "7. **Confusion Matrix**: Understanding where mistakes happen\n",
    "\n",
    "### Real-World Applications:\n",
    "\n",
    "The EXACT same workflow you just learned is used for:\n",
    "- 📮 Postal code recognition in mail sorting facilities\n",
    "- 🏦 Check processing in banks\n",
    "- 📱 Handwriting recognition on tablets\n",
    "- 🚗 License plate reading for parking systems\n",
    "- 📝 Digitizing handwritten documents\n",
    "\n",
    "**You just learned industry-standard Machine Learning!** 🎉"
   ]
  },
  {
   "cell_type": "markdown",
   "metadata": {},
   "source": [
    "---\n",
    "\n",
    "## 🚀 Bonus Challenges\n",
    "\n",
    "Ready to experiment and learn more? Try these challenges!"
   ]
  },
  {
   "cell_type": "markdown",
   "metadata": {},
   "source": [
    "### 🎯 Challenge 1: Does randomness affect results?\n",
    "\n",
    "**TODO:** Try different `random_state` values in `train_test_split`. Does the accuracy change? Why or why not?\n",
    "\n",
    "**Experiment:**\n",
    "- Try `random_state=10`, `random_state=99`, `random_state=123`\n",
    "- Train the model each time\n",
    "- Compare accuracies\n",
    "\n",
    "**Hint:** Copy the code from Steps 4-5-8 and change the random_state value."
   ]
  },
  {
   "cell_type": "code",
   "execution_count": null,
   "metadata": {},
   "outputs": [],
   "source": [
    "# TODO: Experiment with different random_state values\n",
    "# Does it significantly change the accuracy?\n",
    "\n",
    "# YOUR CODE HERE:\n"
   ]
  },
  {
   "cell_type": "markdown",
   "metadata": {},
   "source": [
    "### 🎯 Challenge 2: More trees = Better accuracy?\n",
    "\n",
    "**TODO:** Experiment with different `n_estimators` values in RandomForestClassifier.\n",
    "\n",
    "**Try these values:**\n",
    "- `n_estimators=10` (just 10 trees)\n",
    "- `n_estimators=50`\n",
    "- `n_estimators=200` (more trees!)\n",
    "- `n_estimators=500` (lots of trees!)\n",
    "\n",
    "**Questions to explore:**\n",
    "- Does more trees = better accuracy?\n",
    "- Does it take longer to train with more trees?\n",
    "- Is there a sweet spot?"
   ]
  },
  {
   "cell_type": "code",
   "execution_count": null,
   "metadata": {},
   "outputs": [],
   "source": [
    "# TODO: Try different n_estimators values\n",
    "# Compare accuracy and training time\n",
    "\n",
    "# YOUR CODE HERE:\n"
   ]
  },
  {
   "cell_type": "markdown",
   "metadata": {},
   "source": [
    "### 🎯 Challenge 3: Find the hardest digit to recognize\n",
    "\n",
    "**TODO:** Using the confusion matrix, find which digit has the LOWEST accuracy.\n",
    "\n",
    "**Hint:** Look at the diagonal of the confusion matrix. Which digit has the smallest number of correct predictions?"
   ]
  },
  {
   "cell_type": "code",
   "execution_count": null,
   "metadata": {},
   "outputs": [],
   "source": [
    "# TODO: Analyze which digit is hardest for the AI to recognize\n",
    "# You can calculate accuracy per digit from the confusion matrix\n",
    "\n",
    "# YOUR CODE HERE:\n"
   ]
  },
  {
   "cell_type": "markdown",
   "metadata": {},
   "source": [
    "---\n",
    "\n",
    "## 🎊 Summary & Next Steps\n",
    "\n",
    "### 🏆 Congratulations! You Did It! 🏆\n",
    "\n",
    "You just built a complete AI system from scratch! Let's celebrate what you accomplished:\n",
    "\n",
    "### ✅ What You Built:\n",
    "- 🤖 A working AI that recognizes handwritten digits\n",
    "- 📊 Achieved 95%+ accuracy on unseen data\n",
    "- 🎯 Created visualizations to understand AI decisions\n",
    "- 📈 Evaluated model performance like a pro\n",
    "\n",
    "### ✅ What You Learned:\n",
    "1. **The complete ML pipeline** from data to deployment\n",
    "2. **Data preprocessing** and train/test splitting\n",
    "3. **Model training** with Random Forest\n",
    "4. **Making predictions** on new data\n",
    "5. **Evaluating performance** with accuracy and confusion matrix\n",
    "6. **Visualizing results** to understand AI behavior\n",
    "\n",
    "### 🌟 Key Achievements:\n",
    "- ✨ You can now explain Machine Learning to others!\n",
    "- ✨ You understand the difference between training and testing\n",
    "- ✨ You know how to evaluate model performance\n",
    "- ✨ You've seen how images become data AI can process\n",
    "- ✨ You've built something that works in the real world!\n",
    "\n",
    "### 🚀 Next Steps - Where to Go From Here:\n",
    "\n",
    "**Immediate Next Steps:**\n",
    "1. 🔄 Try different algorithms (SVM, KNN, Neural Networks)\n",
    "2. 🎨 Work with the full MNIST dataset (70,000 images!)\n",
    "3. 🖼️ Apply this to your own image classification problems\n",
    "\n",
    "**Advanced Learning:**\n",
    "1. 🧠 **Deep Learning**: Try neural networks for even better accuracy\n",
    "2. 🎯 **CNNs (Convolutional Neural Networks)**: Specialized for images\n",
    "3. 📸 **Real-world datasets**: Dogs vs cats, facial recognition, etc.\n",
    "4. 🌐 **Deploy your model**: Make it accessible via web app\n",
    "\n",
    "**Project Ideas:**\n",
    "- 📝 Build a handwritten letter recognizer (A-Z)\n",
    "- 🎨 Create an emoji classifier\n",
    "- 🔢 Make a mathematical equation solver from images\n",
    "- 📊 Build a drawing recognizer (Quick, Draw! dataset)\n",
    "\n",
    "### 📚 Recommended Resources:\n",
    "- **Scikit-learn Documentation**: https://scikit-learn.org\n",
    "- **Kaggle Learn**: Free ML courses and competitions\n",
    "- **Google's ML Crash Course**: Excellent for beginners\n",
    "- **Fast.ai**: Practical deep learning for coders\n",
    "\n",
    "### 💡 Final Thoughts:\n",
    "\n",
    "You started this notebook knowing little about AI, and now you've:\n",
    "- ✅ Built a complete ML system\n",
    "- ✅ Trained an AI model\n",
    "- ✅ Evaluated its performance\n",
    "- ✅ Understood how it all works\n",
    "\n",
    "**This is just the beginning!** Machine Learning is a superpower, and you now have the foundation to:\n",
    "- 🎯 Solve real-world problems\n",
    "- 🚀 Build intelligent applications\n",
    "- 💼 Pursue a career in AI/ML\n",
    "- 🌟 Make a positive impact with technology\n",
    "\n",
    "### 🎉 You're Now an AI Builder! 🎉\n",
    "\n",
    "Keep experimenting, keep learning, and most importantly:\n",
    "**Keep building amazing things!** 🚀\n",
    "\n",
    "---\n",
    "\n",
    "**Questions? Ideas? Excited about what you built?**\n",
    "\n",
    "Share your results, try the bonus challenges, and explore the next steps above!\n",
    "\n",
    "**Happy coding, and welcome to the world of Artificial Intelligence!** 🤖✨"
   ]
  }
 ],
 "metadata": {
  "kernelspec": {
   "display_name": "Python 3 (ipykernel)",
   "language": "python",
   "name": "python3"
  },
  "language_info": {
   "codemirror_mode": {
    "name": "ipython",
    "version": 3
   },
   "file_extension": ".py",
   "mimetype": "text/x-python",
   "name": "python",
   "nbconvert_exporter": "python",
   "pygments_lexer": "ipython3",
   "version": "3.12.4"
  }
 },
 "nbformat": 4,
 "nbformat_minor": 4
}