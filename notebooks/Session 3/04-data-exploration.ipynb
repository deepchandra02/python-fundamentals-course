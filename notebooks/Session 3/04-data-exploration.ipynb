{
 "cells": [
  {
   "cell_type": "markdown",
   "metadata": {},
   "source": [
    "# Complete Data Exploration Project\n",
    "\n",
    "## Putting It All Together!\n",
    "\n",
    "In this notebook, we'll combine **NumPy**, **Pandas**, and **Matplotlib** to perform a complete data analysis workflow.\n",
    "\n",
    "### What You'll Learn:\n",
    "- Load and explore real-world data\n",
    "- Calculate meaningful statistics\n",
    "- Visualize patterns and trends\n",
    "- Draw insights from data\n",
    "\n",
    "This is what data scientists do every day!"
   ]
  },
  {
   "cell_type": "markdown",
   "metadata": {},
   "source": [
    "## Import Libraries\n",
    "\n",
    "First, let's import all the tools we need for data analysis:"
   ]
  },
  {
   "cell_type": "code",
   "execution_count": null,
   "metadata": {},
   "outputs": [],
   "source": [
    "import numpy as np\n",
    "import pandas as pd\n",
    "import matplotlib.pyplot as plt\n",
    "\n",
    "# Make plots look better\n",
    "plt.style.use('seaborn-v0_8-darkgrid')\n",
    "%matplotlib inline\n",
    "\n",
    "print(\"All libraries imported successfully!\")"
   ]
  },
  {
   "cell_type": "markdown",
   "metadata": {},
   "source": [
    "## The Project: Weather Data Analysis\n",
    "\n",
    "### Scenario:\n",
    "You're a meteorologist analyzing weather patterns for a city over 30 days.\n",
    "\n",
    "### Goals:\n",
    "- Explore **temperature**, **humidity**, and **rainfall** patterns\n",
    "- Find correlations between weather variables\n",
    "- Visualize trends to communicate findings\n",
    "- Answer key questions about the weather"
   ]
  },
  {
   "cell_type": "markdown",
   "metadata": {},
   "source": [
    "## Step 1: Load the Data\n",
    "\n",
    "Let's create our weather dataset with 30 days of measurements:"
   ]
  },
  {
   "cell_type": "code",
   "execution_count": null,
   "metadata": {},
   "outputs": [],
   "source": [
    "# Set random seed for reproducibility\n",
    "np.random.seed(42)\n",
    "\n",
    "# Create 30 days of weather data\n",
    "dates = pd.date_range(start='2024-01-01', periods=30, freq='D')\n",
    "\n",
    "# Generate realistic weather data\n",
    "temperature = np.random.normal(loc=22, scale=5, size=30)  # Average 22°C, varies by 5°C\n",
    "humidity = np.random.uniform(40, 90, size=30)  # 40-90% humidity\n",
    "rainfall = np.random.exponential(scale=5, size=30)  # Rainfall in mm (exponential distribution)\n",
    "\n",
    "# Create DataFrame\n",
    "weather_df = pd.DataFrame({\n",
    "    'Date': dates,\n",
    "    'Temperature': temperature.round(1),\n",
    "    'Humidity': humidity.round(1),\n",
    "    'Rainfall': rainfall.round(1)\n",
    "})\n",
    "\n",
    "print(\"Weather data loaded successfully!\")\n",
    "print(f\"\\nDataset shape: {weather_df.shape}\")\n",
    "print(f\"Date range: {weather_df['Date'].min()} to {weather_df['Date'].max()}\")"
   ]
  },
  {
   "cell_type": "code",
   "execution_count": null,
   "metadata": {},
   "outputs": [],
   "source": [
    "# Display first few rows\n",
    "print(\"First 5 days of weather data:\")\n",
    "weather_df.head()"
   ]
  },
  {
   "cell_type": "code",
   "execution_count": null,
   "metadata": {},
   "outputs": [],
   "source": [
    "# Get dataset information\n",
    "print(\"Dataset Information:\")\n",
    "weather_df.info()"
   ]
  },
  {
   "cell_type": "code",
   "execution_count": null,
   "metadata": {},
   "outputs": [],
   "source": [
    "# Statistical summary\n",
    "print(\"Statistical Summary:\")\n",
    "weather_df.describe()"
   ]
  },
  {
   "cell_type": "markdown",
   "metadata": {},
   "source": [
    "## Step 2: Data Analysis\n",
    "\n",
    "Now let's calculate key statistics and find patterns in the data:"
   ]
  },
  {
   "cell_type": "code",
   "execution_count": null,
   "metadata": {},
   "outputs": [],
   "source": [
    "# Calculate key statistics\n",
    "avg_temp = weather_df['Temperature'].mean()\n",
    "max_temp = weather_df['Temperature'].max()\n",
    "min_temp = weather_df['Temperature'].min()\n",
    "\n",
    "# Count rainy days (rainfall > 5mm)\n",
    "rainy_days = (weather_df['Rainfall'] > 5).sum()\n",
    "\n",
    "# Calculate total rainfall\n",
    "total_rainfall = weather_df['Rainfall'].sum()\n",
    "\n",
    "print(\"Weather Statistics:\")\n",
    "print(f\"  Average Temperature: {avg_temp:.1f}°C\")\n",
    "print(f\"  Maximum Temperature: {max_temp:.1f}°C\")\n",
    "print(f\"  Minimum Temperature: {min_temp:.1f}°C\")\n",
    "print(f\"  Rainy Days (>5mm): {rainy_days} days\")\n",
    "print(f\"  Total Rainfall: {total_rainfall:.1f} mm\")"
   ]
  },
  {
   "cell_type": "code",
   "execution_count": null,
   "metadata": {},
   "outputs": [],
   "source": [
    "# Find correlations between variables\n",
    "print(\"\\nCorrelation Analysis:\")\n",
    "correlations = weather_df[['Temperature', 'Humidity', 'Rainfall']].corr()\n",
    "print(correlations)\n",
    "\n",
    "# Highlight key correlation\n",
    "humidity_rain_corr = correlations.loc['Humidity', 'Rainfall']\n",
    "print(f\"\\nHumidity-Rainfall Correlation: {humidity_rain_corr:.3f}\")\n",
    "if humidity_rain_corr > 0.5:\n",
    "    print(\"Strong positive correlation - high humidity tends to bring more rain!\")\n",
    "elif humidity_rain_corr < -0.5:\n",
    "    print(\"Strong negative correlation - interesting pattern!\")\n",
    "else:\n",
    "    print(\"Weak correlation - humidity and rainfall are somewhat independent.\")"
   ]
  },
  {
   "cell_type": "code",
   "execution_count": null,
   "metadata": {},
   "outputs": [],
   "source": [
    "# TODO: YOUR TURN!\n",
    "# Find the hottest and coldest days\n",
    "# Hint: Use idxmax() and idxmin() methods\n",
    "# Then print the date and temperature for each\n",
    "\n",
    "# Your code here:\n"
   ]
  },
  {
   "cell_type": "markdown",
   "metadata": {},
   "source": [
    "## Step 3: Data Visualization\n",
    "\n",
    "Let's create visualizations to understand the patterns better:"
   ]
  },
  {
   "cell_type": "code",
   "execution_count": null,
   "metadata": {},
   "outputs": [],
   "source": [
    "# Create a figure with 3 subplots\n",
    "fig, axes = plt.subplots(3, 1, figsize=(12, 10))\n",
    "fig.suptitle('30-Day Weather Analysis', fontsize=16, fontweight='bold')\n",
    "\n",
    "# Plot 1: Temperature over time (Line plot)\n",
    "axes[0].plot(weather_df['Date'], weather_df['Temperature'], \n",
    "             marker='o', color='orangered', linewidth=2, markersize=4)\n",
    "axes[0].axhline(y=avg_temp, color='blue', linestyle='--', \n",
    "                label=f'Average: {avg_temp:.1f}°C')\n",
    "axes[0].set_title('Temperature Trend Over Time', fontsize=12, fontweight='bold')\n",
    "axes[0].set_xlabel('Date')\n",
    "axes[0].set_ylabel('Temperature (°C)')\n",
    "axes[0].legend()\n",
    "axes[0].grid(True, alpha=0.3)\n",
    "plt.setp(axes[0].xaxis.get_majorticklabels(), rotation=45)\n",
    "\n",
    "# Plot 2: Average temperature by week (Bar chart)\n",
    "weather_df['Week'] = (weather_df.index // 7) + 1\n",
    "weekly_temp = weather_df.groupby('Week')['Temperature'].mean()\n",
    "axes[1].bar(weekly_temp.index, weekly_temp.values, \n",
    "            color=['steelblue', 'seagreen', 'coral', 'mediumpurple', 'gold'][:len(weekly_temp)],\n",
    "            alpha=0.8, edgecolor='black')\n",
    "axes[1].set_title('Average Temperature by Week', fontsize=12, fontweight='bold')\n",
    "axes[1].set_xlabel('Week Number')\n",
    "axes[1].set_ylabel('Average Temperature (°C)')\n",
    "axes[1].grid(True, alpha=0.3, axis='y')\n",
    "\n",
    "# Plot 3: Humidity vs Rainfall (Scatter plot)\n",
    "scatter = axes[2].scatter(weather_df['Humidity'], weather_df['Rainfall'],\n",
    "                         c=weather_df['Temperature'], cmap='coolwarm',\n",
    "                         s=100, alpha=0.6, edgecolor='black')\n",
    "axes[2].set_title('Humidity vs Rainfall (colored by Temperature)', \n",
    "                  fontsize=12, fontweight='bold')\n",
    "axes[2].set_xlabel('Humidity (%)')\n",
    "axes[2].set_ylabel('Rainfall (mm)')\n",
    "axes[2].grid(True, alpha=0.3)\n",
    "cbar = plt.colorbar(scatter, ax=axes[2])\n",
    "cbar.set_label('Temperature (°C)')\n",
    "\n",
    "plt.tight_layout()\n",
    "plt.show()\n",
    "\n",
    "print(\"Visualizations created successfully!\")"
   ]
  },
  {
   "cell_type": "code",
   "execution_count": null,
   "metadata": {},
   "outputs": [],
   "source": [
    "# TODO: YOUR TURN!\n",
    "# Create a histogram of temperatures\n",
    "# Show the distribution of temperature values\n",
    "# Hint: Use plt.hist() with 10 bins\n",
    "# Add title, labels, and grid\n",
    "\n",
    "# Your code here:\n"
   ]
  },
  {
   "cell_type": "markdown",
   "metadata": {},
   "source": [
    "## Step 4: Answer Key Questions\n",
    "\n",
    "Let's use our data to answer important weather-related questions:"
   ]
  },
  {
   "cell_type": "code",
   "execution_count": null,
   "metadata": {},
   "outputs": [],
   "source": [
    "# Question 1: What's the average temperature?\n",
    "print(\"Question 1: What's the average temperature?\")\n",
    "avg_temp = weather_df['Temperature'].mean()\n",
    "print(f\"Answer: The average temperature over 30 days is {avg_temp:.1f}°C\")\n",
    "print()"
   ]
  },
  {
   "cell_type": "code",
   "execution_count": null,
   "metadata": {},
   "outputs": [],
   "source": [
    "# Question 2: How many rainy days did we have?\n",
    "print(\"Question 2: How many rainy days (>5mm rainfall) did we have?\")\n",
    "rainy_days = (weather_df['Rainfall'] > 5).sum()\n",
    "percentage = (rainy_days / len(weather_df)) * 100\n",
    "print(f\"Answer: {rainy_days} rainy days ({percentage:.1f}% of the month)\")\n",
    "print()"
   ]
  },
  {
   "cell_type": "code",
   "execution_count": null,
   "metadata": {},
   "outputs": [],
   "source": [
    "# Question 3: Is there a correlation between humidity and rainfall?\n",
    "print(\"Question 3: Is there a correlation between humidity and rainfall?\")\n",
    "correlation = weather_df['Humidity'].corr(weather_df['Rainfall'])\n",
    "print(f\"Answer: Correlation coefficient = {correlation:.3f}\")\n",
    "\n",
    "if abs(correlation) > 0.7:\n",
    "    strength = \"strong\"\n",
    "elif abs(correlation) > 0.4:\n",
    "    strength = \"moderate\"\n",
    "else:\n",
    "    strength = \"weak\"\n",
    "\n",
    "direction = \"positive\" if correlation > 0 else \"negative\"\n",
    "print(f\"There is a {strength} {direction} correlation.\")\n",
    "if correlation > 0.4:\n",
    "    print(\"Higher humidity tends to be associated with more rainfall.\")\n",
    "print()"
   ]
  },
  {
   "cell_type": "code",
   "execution_count": null,
   "metadata": {},
   "outputs": [],
   "source": [
    "# TODO: YOUR TURN!\n",
    "# Question 4: Find the week with the most rainfall\n",
    "# Hint: Group by 'Week' column and sum the rainfall\n",
    "# Then use idxmax() to find which week had the most\n",
    "# Print the week number and total rainfall\n",
    "\n",
    "# Your code here:\n"
   ]
  },
  {
   "cell_type": "markdown",
   "metadata": {},
   "source": [
    "## Summary: Complete Data Analysis Workflow\n",
    "\n",
    "Congratulations! You've just completed a real data science project!\n",
    "\n",
    "### What We Did:\n",
    "\n",
    "1. **Data Loading**\n",
    "   - Created a realistic weather dataset\n",
    "   - Explored the data structure with `.info()` and `.describe()`\n",
    "\n",
    "2. **Data Analysis**\n",
    "   - Calculated statistical measures (mean, max, min)\n",
    "   - Found patterns using correlation analysis\n",
    "   - Identified significant events (rainy days, temperature extremes)\n",
    "\n",
    "3. **Data Visualization**\n",
    "   - Line plots for trends over time\n",
    "   - Bar charts for categorical comparisons\n",
    "   - Scatter plots for relationships between variables\n",
    "   - Histograms for distributions\n",
    "\n",
    "4. **Insights & Communication**\n",
    "   - Answered specific questions with data\n",
    "   - Drew meaningful conclusions\n",
    "   - Presented findings clearly\n",
    "\n",
    "### Real-World Applications:\n",
    "\n",
    "This workflow applies to ANY data analysis project:\n",
    "- **Business**: Sales trends, customer behavior, inventory management\n",
    "- **Science**: Experimental data, climate research, medical studies\n",
    "- **Finance**: Stock prices, economic indicators, risk analysis\n",
    "- **Sports**: Player statistics, game outcomes, performance tracking\n",
    "- **Social Media**: User engagement, content trends, sentiment analysis\n",
    "\n",
    "### Key Skills Mastered:\n",
    "- NumPy for numerical computations\n",
    "- Pandas for data manipulation and analysis\n",
    "- Matplotlib for data visualization\n",
    "- Statistical thinking and correlation analysis\n",
    "- Professional data presentation\n",
    "\n",
    "### Next Steps:\n",
    "- Try analyzing your own datasets (CSV files, Excel, etc.)\n",
    "- Explore more advanced visualizations (seaborn library)\n",
    "- Learn machine learning to make predictions from data\n",
    "- Build interactive dashboards with Plotly or Streamlit\n",
    "\n",
    "**You now have the foundation to work with real-world data!**"
   ]
  }
 ],
 "metadata": {
  "kernelspec": {
   "display_name": "Python 3",
   "language": "python",
   "name": "python3"
  },
  "language_info": {
   "codemirror_mode": {
    "name": "ipython",
    "version": 3
   },
   "file_extension": ".py",
   "mimetype": "text/x-python",
   "name": "python",
   "nbconvert_exporter": "python",
   "pygments_lexer": "ipython3",
   "version": "3.8.0"
  }
 },
 "nbformat": 4,
 "nbformat_minor": 4
}
