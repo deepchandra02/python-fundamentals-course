{
 "cells": [
  {
   "cell_type": "markdown",
   "metadata": {},
   "source": [
    "# 🔧 Setup Verification - Session 3\n",
    "## Python Fundamentals Workshop: Data Science & ML\n",
    "\n",
    "Welcome to Session 3! Before we begin, let's verify that all required libraries are installed and working correctly.\n",
    "\n",
    "This notebook will check:\n",
    "- ✅ NumPy - For numerical computing\n",
    "- ✅ Pandas - For data manipulation\n",
    "- ✅ Matplotlib - For visualization\n",
    "- ✅ Scikit-learn - For machine learning\n",
    "\n",
    "**Expected time:** 2 minutes"
   ]
  },
  {
   "cell_type": "markdown",
   "metadata": {},
   "source": [
    "---\n",
    "## 📦 Step 1: Import Libraries\n",
    "\n",
    "Let's try importing all the libraries we'll need today."
   ]
  },
  {
   "cell_type": "code",
   "execution_count": 1,
   "metadata": {},
   "outputs": [
    {
     "name": "stdout",
     "output_type": "stream",
     "text": [
      "🔍 Checking library installations...\n",
      "\n",
      "✅ NumPy imported successfully!\n",
      "   Version: 1.26.4\n",
      "\n",
      "✅ Pandas imported successfully!\n",
      "   Version: 2.2.2\n",
      "\n",
      "✅ Matplotlib imported successfully!\n",
      "   Version: 3.8.4\n",
      "\n",
      "✅ Scikit-learn imported successfully!\n",
      "   Version: 1.4.2\n",
      "\n",
      "==================================================\n",
      "🎉 If you see all checkmarks above, you're ready to go!\n",
      "==================================================\n"
     ]
    }
   ],
   "source": [
    "print(\"🔍 Checking library installations...\\n\")\n",
    "\n",
    "try:\n",
    "    import numpy as np\n",
    "    print(\"✅ NumPy imported successfully!\")\n",
    "    print(f\"   Version: {np.__version__}\")\n",
    "except ImportError as e:\n",
    "    print(\"❌ NumPy not found!\")\n",
    "    print(f\"   Error: {e}\")\n",
    "    print(\"   Install with: pip install numpy\")\n",
    "\n",
    "try:\n",
    "    import pandas as pd\n",
    "    print(\"\\n✅ Pandas imported successfully!\")\n",
    "    print(f\"   Version: {pd.__version__}\")\n",
    "except ImportError as e:\n",
    "    print(\"\\n❌ Pandas not found!\")\n",
    "    print(f\"   Error: {e}\")\n",
    "    print(\"   Install with: pip install pandas\")\n",
    "\n",
    "try:\n",
    "    import matplotlib.pyplot as plt\n",
    "    import matplotlib\n",
    "    print(\"\\n✅ Matplotlib imported successfully!\")\n",
    "    print(f\"   Version: {matplotlib.__version__}\")\n",
    "except ImportError as e:\n",
    "    print(\"\\n❌ Matplotlib not found!\")\n",
    "    print(f\"   Error: {e}\")\n",
    "    print(\"   Install with: pip install matplotlib\")\n",
    "\n",
    "try:\n",
    "    import sklearn\n",
    "    print(\"\\n✅ Scikit-learn imported successfully!\")\n",
    "    print(f\"   Version: {sklearn.__version__}\")\n",
    "except ImportError as e:\n",
    "    print(\"\\n❌ Scikit-learn not found!\")\n",
    "    print(f\"   Error: {e}\")\n",
    "    print(\"   Install with: pip install scikit-learn\")\n",
    "\n",
    "print(\"\\n\" + \"=\"*50)\n",
    "print(\"🎉 If you see all checkmarks above, you're ready to go!\")\n",
    "print(\"=\"*50)"
   ]
  },
  {
   "cell_type": "markdown",
   "metadata": {},
   "source": [
    "---\n",
    "## 🧪 Step 2: Quick Functionality Test\n",
    "\n",
    "Let's test each library with a simple operation to make sure everything works!"
   ]
  },
  {
   "cell_type": "markdown",
   "metadata": {},
   "source": [
    "### NumPy Test - Create an array and do math"
   ]
  },
  {
   "cell_type": "code",
   "execution_count": null,
   "metadata": {},
   "outputs": [],
   "source": [
    "import numpy as np\n",
    "\n",
    "# Create a simple array\n",
    "numbers = np.array([1, 2, 3, 4, 5])\n",
    "print(\"Original array:\", numbers)\n",
    "print(\"Multiplied by 2:\", numbers * 2)\n",
    "print(\"Sum:\", numbers.sum())\n",
    "print(\"\\n✅ NumPy is working perfectly!\")"
   ]
  },
  {
   "cell_type": "markdown",
   "metadata": {},
   "source": [
    "### Pandas Test - Create a simple DataFrame"
   ]
  },
  {
   "cell_type": "code",
   "execution_count": null,
   "metadata": {},
   "outputs": [],
   "source": [
    "import pandas as pd\n",
    "\n",
    "# Create a simple DataFrame\n",
    "data = {\n",
    "    'Name': ['Alice', 'Bob', 'Charlie'],\n",
    "    'Age': [25, 30, 35],\n",
    "    'Score': [85, 90, 95]\n",
    "}\n",
    "df = pd.DataFrame(data)\n",
    "print(df)\n",
    "print(\"\\n✅ Pandas is working perfectly!\")"
   ]
  },
  {
   "cell_type": "markdown",
   "metadata": {},
   "source": [
    "### Matplotlib Test - Create a simple plot"
   ]
  },
  {
   "cell_type": "code",
   "execution_count": null,
   "metadata": {},
   "outputs": [],
   "source": [
    "import matplotlib.pyplot as plt\n",
    "import numpy as np\n",
    "\n",
    "# Create a simple line plot\n",
    "x = np.array([1, 2, 3, 4, 5])\n",
    "y = np.array([2, 4, 6, 8, 10])\n",
    "\n",
    "plt.figure(figsize=(8, 4))\n",
    "plt.plot(x, y, marker='o', color='blue', linewidth=2)\n",
    "plt.title('Test Plot - If you see this, Matplotlib works!', fontsize=14, fontweight='bold')\n",
    "plt.xlabel('X values')\n",
    "plt.ylabel('Y values')\n",
    "plt.grid(True, alpha=0.3)\n",
    "plt.show()\n",
    "\n",
    "print(\"✅ Matplotlib is working perfectly!\")"
   ]
  },
  {
   "cell_type": "markdown",
   "metadata": {},
   "source": [
    "### Scikit-learn Test - Load a sample dataset"
   ]
  },
  {
   "cell_type": "code",
   "execution_count": null,
   "metadata": {},
   "outputs": [],
   "source": [
    "from sklearn.datasets import load_iris\n",
    "\n",
    "# Load the famous Iris dataset\n",
    "iris = load_iris()\n",
    "print(f\"Dataset loaded: {iris.data.shape[0]} samples\")\n",
    "print(f\"Features: {iris.feature_names[:2]}... (and more)\")\n",
    "print(f\"Target classes: {len(iris.target_names)}\")\n",
    "print(\"\\n✅ Scikit-learn is working perfectly!\")"
   ]
  },
  {
   "cell_type": "markdown",
   "metadata": {},
   "source": [
    "---\n",
    "## 🎊 Step 3: Final System Check"
   ]
  },
  {
   "cell_type": "code",
   "execution_count": null,
   "metadata": {},
   "outputs": [],
   "source": [
    "import sys\n",
    "import platform\n",
    "\n",
    "print(\"=\"*60)\n",
    "print(\"🖥️  SYSTEM INFORMATION\")\n",
    "print(\"=\"*60)\n",
    "print(f\"Python Version: {sys.version.split()[0]}\")\n",
    "print(f\"Platform: {platform.system()} {platform.release()}\")\n",
    "print(f\"Architecture: {platform.machine()}\")\n",
    "print(\"=\"*60)\n",
    "print()\n",
    "print(\"=\"*60)\n",
    "print(\"📚 INSTALLED LIBRARIES\")\n",
    "print(\"=\"*60)\n",
    "\n",
    "libraries = [\n",
    "    ('NumPy', 'numpy'),\n",
    "    ('Pandas', 'pandas'),\n",
    "    ('Matplotlib', 'matplotlib'),\n",
    "    ('Scikit-learn', 'sklearn')\n",
    "]\n",
    "\n",
    "all_good = True\n",
    "for name, module_name in libraries:\n",
    "    try:\n",
    "        module = __import__(module_name)\n",
    "        version = getattr(module, '__version__', 'Unknown')\n",
    "        print(f\"✅ {name:15s} v{version}\")\n",
    "    except ImportError:\n",
    "        print(f\"❌ {name:15s} NOT INSTALLED\")\n",
    "        all_good = False\n",
    "\n",
    "print(\"=\"*60)\n",
    "print()\n",
    "\n",
    "if all_good:\n",
    "    print(\"🎉 \" * 15)\n",
    "    print(\"    ALL SYSTEMS GO! YOU'RE READY FOR SESSION 3!\")\n",
    "    print(\"🎉 \" * 15)\n",
    "else:\n",
    "    print(\"⚠️  Some libraries are missing. Please install them before continuing.\")\n",
    "    print(\"   Run: pip install numpy pandas matplotlib scikit-learn\")"
   ]
  },
  {
   "cell_type": "markdown",
   "metadata": {},
   "source": [
    "---\n",
    "## 🚀 You're All Set!\n",
    "\n",
    "If all tests passed, you're ready to dive into:\n",
    "- 📊 **Module 1**: NumPy Basics\n",
    "- 📈 **Module 2**: Pandas Fundamentals\n",
    "- 🎨 **Module 3**: Matplotlib Visualization\n",
    "- 🔍 **Module 4**: Data Exploration\n",
    "- 🤖 **Module 5**: MNIST Digit Recognition (ML Project!)\n",
    "\n",
    "**Next**: Open `01-numpy-basics.ipynb` to start learning!\n",
    "\n",
    "---\n",
    "\n",
    "### 🆘 Troubleshooting\n",
    "\n",
    "If you encountered any errors:\n",
    "\n",
    "1. **Libraries not found?**\n",
    "   ```bash\n",
    "   pip install numpy pandas matplotlib scikit-learn\n",
    "   ```\n",
    "\n",
    "2. **Old Python version?**\n",
    "   - Make sure you're using Python 3.7 or higher\n",
    "   - Check with: `python --version`\n",
    "\n",
    "3. **Still having issues?**\n",
    "   - Try creating a new virtual environment\n",
    "   - Ask your instructor for help!\n",
    "\n",
    "---\n",
    "\n",
    "*Session 3 - Data Handling & Machine Learning* 🐍"
   ]
  }
 ],
 "metadata": {
  "kernelspec": {
   "display_name": "Python 3 (ipykernel)",
   "language": "python",
   "name": "python3"
  },
  "language_info": {
   "codemirror_mode": {
    "name": "ipython",
    "version": 3
   },
   "file_extension": ".py",
   "mimetype": "text/x-python",
   "name": "python",
   "nbconvert_exporter": "python",
   "pygments_lexer": "ipython3",
   "version": "3.12.4"
  }
 },
 "nbformat": 4,
 "nbformat_minor": 4
}
