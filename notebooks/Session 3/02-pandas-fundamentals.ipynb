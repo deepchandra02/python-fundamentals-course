{
 "cells": [
  {
   "cell_type": "markdown",
   "metadata": {},
   "source": [
    "# 🐼 Pandas Fundamentals - Your Data Superpower!\n",
    "\n",
    "## What is Pandas?\n",
    "\n",
    "**Pandas** is like Excel on steroids! 💪 It's a Python library that makes working with data super easy and powerful.\n",
    "\n",
    "### 📊 DataFrames vs Excel\n",
    "\n",
    "| Excel | Pandas DataFrame |\n",
    "|-------|------------------|\n",
    "| Click and drag | Write code |\n",
    "| Manual work | Automated |\n",
    "| Slow with big data | Lightning fast ⚡ |\n",
    "| Limited to ~1M rows | Handle millions easily |\n",
    "| Hard to reproduce | Repeatable scripts |\n",
    "\n",
    "### Why Learn Pandas?\n",
    "\n",
    "- 📈 Analyze data like a pro\n",
    "- 🔄 Clean messy data automatically\n",
    "- 📊 Create powerful visualizations\n",
    "- 🚀 Process huge datasets quickly\n",
    "\n",
    "**Time to dive in!** 🏊‍♂️"
   ]
  },
  {
   "cell_type": "markdown",
   "metadata": {},
   "source": [
    "## 📦 Import Pandas\n",
    "\n",
    "First, we need to import the Pandas library. The standard convention is to import it as `pd`:"
   ]
  },
  {
   "cell_type": "code",
   "execution_count": null,
   "metadata": {},
   "outputs": [],
   "source": [
    "import pandas as pd\n",
    "import numpy as np  # NumPy often works hand-in-hand with Pandas\n",
    "\n",
    "print(f\"Pandas version: {pd.__version__}\")\n",
    "print(\"🎉 Pandas is ready to rock!\")"
   ]
  },
  {
   "cell_type": "markdown",
   "metadata": {},
   "source": [
    "---\n",
    "\n",
    "## 📝 Part 1: Series - Your First Data Structure\n",
    "\n",
    "### What is a Series?\n",
    "\n",
    "A **Series** is like a single column in Excel - a one-dimensional array with labels (index).\n",
    "\n",
    "Think of it as a list with superpowers! 🦸‍♀️\n",
    "\n",
    "```\n",
    "Index    Values\n",
    "  0   →  Apple\n",
    "  1   →  Banana\n",
    "  2   →  Cherry\n",
    "```"
   ]
  },
  {
   "cell_type": "code",
   "execution_count": null,
   "metadata": {},
   "outputs": [],
   "source": [
    "# Create a Series from a list\n",
    "fruits = pd.Series(['Apple', 'Banana', 'Cherry', 'Durian', 'Elderberry'])\n",
    "print(\"🍎 Fruits Series:\")\n",
    "print(fruits)\n",
    "print()\n",
    "\n",
    "# Create a Series from a dictionary (custom index)\n",
    "prices = pd.Series({\n",
    "    'Apple': 2.50,\n",
    "    'Banana': 1.20,\n",
    "    'Cherry': 4.00,\n",
    "    'Durian': 15.00,\n",
    "    'Elderberry': 8.50\n",
    "})\n",
    "print(\"💰 Prices Series:\")\n",
    "print(prices)\n",
    "print()\n",
    "\n",
    "# Access elements\n",
    "print(f\"The price of a Banana is: ${prices['Banana']}\")"
   ]
  },
  {
   "cell_type": "markdown",
   "metadata": {},
   "source": [
    "### 🎯 YOUR TURN: Create a Series of Your Favorite Foods\n",
    "\n",
    "**TODO:** Create a Series called `my_foods` with at least 5 of your favorite foods. Try using a dictionary to give each food a rating from 1-10!\n",
    "\n",
    "Example structure:\n",
    "```python\n",
    "my_foods = pd.Series({\n",
    "    'Pizza': 10,\n",
    "    'Sushi': 9,\n",
    "    # Add your own foods here!\n",
    "})\n",
    "```"
   ]
  },
  {
   "cell_type": "code",
   "execution_count": null,
   "metadata": {},
   "outputs": [],
   "source": [
    "# YOUR CODE HERE\n",
    "# Create your my_foods Series\n",
    "\n"
   ]
  },
  {
   "cell_type": "markdown",
   "metadata": {},
   "source": [
    "---\n",
    "\n",
    "## 📊 Part 2: DataFrames - The Main Event!\n",
    "\n",
    "### What is a DataFrame?\n",
    "\n",
    "A **DataFrame** is like an entire Excel spreadsheet - a 2D table with rows and columns!\n",
    "\n",
    "It's basically multiple Series stacked together. 🥞\n",
    "\n",
    "```\n",
    "       Name    Age  Grade\n",
    "  0    Alice   20    A\n",
    "  1    Bob     21    B\n",
    "  2    Carol   19    A+\n",
    "```\n",
    "\n",
    "Each column is a Series, and together they make a powerful DataFrame!"
   ]
  },
  {
   "cell_type": "code",
   "execution_count": null,
   "metadata": {},
   "outputs": [],
   "source": [
    "# Create a DataFrame from a dictionary\n",
    "students = pd.DataFrame({\n",
    "    'Name': ['Alice', 'Bob', 'Carol', 'David', 'Eve', 'Frank'],\n",
    "    'Age': [20, 21, 19, 22, 20, 23],\n",
    "    'Grade': ['A', 'B', 'A+', 'B+', 'A', 'A-'],\n",
    "    'Score': [92, 85, 98, 88, 94, 90]\n",
    "})\n",
    "\n",
    "print(\"👨‍🎓 Student DataFrame:\")\n",
    "print(students)"
   ]
  },
  {
   "cell_type": "markdown",
   "metadata": {},
   "source": [
    "### 🔍 Exploring Your DataFrame\n",
    "\n",
    "Pandas gives us powerful methods to understand our data:"
   ]
  },
  {
   "cell_type": "code",
   "execution_count": null,
   "metadata": {},
   "outputs": [],
   "source": [
    "# .head() - See the first few rows (default 5)\n",
    "print(\"📋 First 3 students:\")\n",
    "print(students.head(3))\n",
    "print()\n",
    "\n",
    "# .info() - Get information about the DataFrame\n",
    "print(\"ℹ️ DataFrame Info:\")\n",
    "students.info()\n",
    "print()\n",
    "\n",
    "# .describe() - Statistical summary of numeric columns\n",
    "print(\"📊 Statistical Summary:\")\n",
    "print(students.describe())"
   ]
  },
  {
   "cell_type": "markdown",
   "metadata": {},
   "source": [
    "### 🎯 YOUR TURN: Create Your Own Product DataFrame\n",
    "\n",
    "**TODO:** Create a DataFrame called `products` with information about 5 products from your favorite store.\n",
    "\n",
    "Include these columns:\n",
    "- `name`: Product name (string)\n",
    "- `price`: Price in dollars (float)\n",
    "- `quantity`: How many in stock (integer)\n",
    "\n",
    "Then display it and use `.describe()` to see the statistics!"
   ]
  },
  {
   "cell_type": "code",
   "execution_count": null,
   "metadata": {},
   "outputs": [],
   "source": [
    "# YOUR CODE HERE\n",
    "# Create your products DataFrame\n",
    "\n"
   ]
  },
  {
   "cell_type": "markdown",
   "metadata": {},
   "source": [
    "---\n",
    "\n",
    "## 📁 Part 3: Reading CSV Files - Real-World Data\n",
    "\n",
    "### Loading External Data\n",
    "\n",
    "In real life, data often comes from CSV files (Comma-Separated Values). Pandas makes reading them super easy!\n",
    "\n",
    "Let's create some sample data and show how CSV loading works:"
   ]
  },
  {
   "cell_type": "code",
   "execution_count": null,
   "metadata": {},
   "outputs": [],
   "source": [
    "# First, let's create a sample DataFrame\n",
    "sales_data = pd.DataFrame({\n",
    "    'Product': ['Laptop', 'Mouse', 'Keyboard', 'Monitor', 'Headphones'],\n",
    "    'Category': ['Electronics', 'Accessories', 'Accessories', 'Electronics', 'Accessories'],\n",
    "    'Price': [899.99, 24.99, 79.99, 299.99, 149.99],\n",
    "    'Units_Sold': [50, 200, 120, 75, 150]\n",
    "})\n",
    "\n",
    "print(\"🛒 Sales Data:\")\n",
    "print(sales_data)\n",
    "print()\n",
    "\n",
    "# In real scenarios, you would read from a file like this:\n",
    "# df = pd.read_csv('sales_data.csv')\n",
    "# df = pd.read_csv('https://example.com/data.csv')  # Can even read from URLs!\n",
    "\n",
    "print(\"💡 Tip: Use pd.read_csv('filename.csv') to load real CSV files!\")"
   ]
  },
  {
   "cell_type": "markdown",
   "metadata": {},
   "source": [
    "---\n",
    "\n",
    "## 🎯 Part 4: Selecting Data - Finding What You Need\n",
    "\n",
    "The real power of Pandas comes from selecting and filtering data!"
   ]
  },
  {
   "cell_type": "code",
   "execution_count": null,
   "metadata": {},
   "outputs": [],
   "source": [
    "# Select a single column (returns a Series)\n",
    "print(\"📦 Just the Product names:\")\n",
    "print(sales_data['Product'])\n",
    "print()\n",
    "\n",
    "# Select multiple columns (returns a DataFrame)\n",
    "print(\"💰 Product and Price:\")\n",
    "print(sales_data[['Product', 'Price']])\n",
    "print()\n",
    "\n",
    "# Select rows by position with .loc[] (label-based)\n",
    "print(\"🔢 First three rows:\")\n",
    "print(sales_data.loc[0:2])\n",
    "print()\n",
    "\n",
    "# Conditional filtering - THIS IS POWERFUL! 💪\n",
    "print(\"🔍 Products with price > $100:\")\n",
    "expensive_products = sales_data[sales_data['Price'] > 100]\n",
    "print(expensive_products)\n",
    "print()\n",
    "\n",
    "# Multiple conditions\n",
    "print(\"🎯 Electronics products with price > $200:\")\n",
    "premium_electronics = sales_data[\n",
    "    (sales_data['Category'] == 'Electronics') & \n",
    "    (sales_data['Price'] > 200)\n",
    "]\n",
    "print(premium_electronics)"
   ]
  },
  {
   "cell_type": "markdown",
   "metadata": {},
   "source": [
    "### 🎯 YOUR TURN: Filter the Data\n",
    "\n",
    "**TODO:** Using the `sales_data` DataFrame above, filter it to show only items with price > $50.\n",
    "\n",
    "Store the result in a variable called `affordable_items` and print it.\n",
    "\n",
    "**Bonus Challenge:** Try filtering for items that sold more than 100 units!"
   ]
  },
  {
   "cell_type": "code",
   "execution_count": null,
   "metadata": {},
   "outputs": [],
   "source": [
    "# YOUR CODE HERE\n",
    "# Filter for items with price > 50\n",
    "\n"
   ]
  },
  {
   "cell_type": "markdown",
   "metadata": {},
   "source": [
    "---\n",
    "\n",
    "## 🧮 Part 5: Basic Operations - Data Manipulation Magic\n",
    "\n",
    "Now let's do some real analysis!"
   ]
  },
  {
   "cell_type": "code",
   "execution_count": null,
   "metadata": {},
   "outputs": [],
   "source": [
    "# Add a new calculated column\n",
    "sales_data['Revenue'] = sales_data['Price'] * sales_data['Units_Sold']\n",
    "\n",
    "print(\"💵 Sales Data with Revenue Column:\")\n",
    "print(sales_data)\n",
    "print()\n",
    "\n",
    "# Group by category and calculate total revenue\n",
    "print(\"📊 Total Revenue by Category:\")\n",
    "category_revenue = sales_data.groupby('Category')['Revenue'].sum()\n",
    "print(category_revenue)\n",
    "print()\n",
    "\n",
    "# Sort by revenue (descending)\n",
    "print(\"🏆 Products sorted by Revenue (highest first):\")\n",
    "sorted_sales = sales_data.sort_values('Revenue', ascending=False)\n",
    "print(sorted_sales)\n",
    "print()\n",
    "\n",
    "# Quick statistics\n",
    "print(f\"💰 Total Revenue: ${sales_data['Revenue'].sum():,.2f}\")\n",
    "print(f\"📈 Average Price: ${sales_data['Price'].mean():.2f}\")\n",
    "print(f\"🔝 Best Seller: {sales_data.loc[sales_data['Units_Sold'].idxmax(), 'Product']}\")"
   ]
  },
  {
   "cell_type": "markdown",
   "metadata": {},
   "source": [
    "### 🎯 YOUR TURN: Calculate Total Revenue\n",
    "\n",
    "**TODO:** Go back to your `products` DataFrame from earlier.\n",
    "\n",
    "1. Add a new column called `total_value` that calculates the total value (price × quantity) for each product\n",
    "2. Find the product with the highest total value\n",
    "3. Calculate the sum of all total values\n",
    "\n",
    "**Hint:** Use the same techniques you saw above!\n",
    "\n",
    "```python\n",
    "# Example structure:\n",
    "products['total_value'] = products['price'] * products['quantity']\n",
    "```"
   ]
  },
  {
   "cell_type": "code",
   "execution_count": null,
   "metadata": {},
   "outputs": [],
   "source": [
    "# YOUR CODE HERE\n",
    "# Add total_value column and analyze your products\n",
    "\n"
   ]
  },
  {
   "cell_type": "markdown",
   "metadata": {},
   "source": [
    "---\n",
    "\n",
    "## 🎉 Summary - You're a Pandas Pro Now!\n",
    "\n",
    "### What We Learned Today:\n",
    "\n",
    "✅ **Series** - One-dimensional labeled arrays  \n",
    "✅ **DataFrames** - Two-dimensional tables (the real MVP!)  \n",
    "✅ **Reading Data** - Import from CSV files  \n",
    "✅ **Selecting Data** - Columns, rows, and filtering  \n",
    "✅ **Operations** - Calculations, grouping, and sorting  \n",
    "\n",
    "### Key Methods to Remember:\n",
    "\n",
    "| Method | What It Does |\n",
    "|--------|-------------|\n",
    "| `.head()` | Preview first rows |\n",
    "| `.info()` | Get DataFrame info |\n",
    "| `.describe()` | Statistical summary |\n",
    "| `.loc[]` | Select rows by label |\n",
    "| `.groupby()` | Group data for analysis |\n",
    "| `.sort_values()` | Sort by column |\n",
    "\n",
    "### 🚀 Next Steps:\n",
    "\n",
    "- 📈 **Data Visualization** - Create amazing charts with matplotlib/seaborn\n",
    "- 🧹 **Data Cleaning** - Handle missing values, duplicates\n",
    "- 🔗 **Merging Data** - Combine multiple DataFrames\n",
    "- ⚡ **Advanced Operations** - Pivot tables, time series\n",
    "\n",
    "### 💡 Pro Tips:\n",
    "\n",
    "1. Always use `.head()` to preview your data first\n",
    "2. Check for missing values with `.isnull().sum()`\n",
    "3. Use meaningful column names (no spaces!)\n",
    "4. Save your work: `df.to_csv('output.csv', index=False)`\n",
    "\n",
    "---\n",
    "\n",
    "## 🎓 Challenge Yourself!\n",
    "\n",
    "Try combining everything you learned:\n",
    "\n",
    "1. Create a DataFrame of 10 movies with: title, genre, rating (1-10), year\n",
    "2. Filter for movies rated above 7\n",
    "3. Group by genre and find average rating per genre\n",
    "4. Find the highest-rated movie\n",
    "\n",
    "**You've got this!** 💪🐼"
   ]
  },
  {
   "cell_type": "code",
   "execution_count": null,
   "metadata": {},
   "outputs": [],
   "source": [
    "# BONUS CHALLENGE SPACE\n",
    "# Try the movie DataFrame challenge here!\n",
    "\n"
   ]
  }
 ],
 "metadata": {
  "kernelspec": {
   "display_name": "Python 3",
   "language": "python",
   "name": "python3"
  },
  "language_info": {
   "codemirror_mode": {
    "name": "ipython",
    "version": 3
   },
   "file_extension": ".py",
   "mimetype": "text/x-python",
   "name": "python",
   "nbconvert_exporter": "python",
   "pygments_lexer": "ipython3",
   "version": "3.8.0"
  }
 },
 "nbformat": 4,
 "nbformat_minor": 4
}
