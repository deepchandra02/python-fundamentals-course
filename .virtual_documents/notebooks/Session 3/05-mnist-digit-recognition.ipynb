





# Import all the libraries we'll need
import numpy as np
import matplotlib.pyplot as plt
from sklearn.datasets import load_digits
from sklearn.model_selection import train_test_split
from sklearn.ensemble import RandomForestClassifier
from sklearn.metrics import accuracy_score, confusion_matrix
import seaborn as sns

# Make our plots look nice
plt.style.use('seaborn-v0_8-darkgrid')
%matplotlib inline

print("✅ All libraries imported successfully!")
print("🎯 We're ready to build AI!")








# Load the digits dataset
digits = load_digits()

# Let's see what we have!
print("🎉 Dataset loaded successfully!\n")
print("📊 Dataset Information:")
print(f"   Total number of samples: {len(digits.images)}")
print(f"   Image dimensions: {digits.images[0].shape} (8 pixels x 8 pixels)")
print(f"   Number of features per sample: {digits.data.shape[1]}")
print(f"   Number of classes (digits 0-9): {len(np.unique(digits.target))}")

print("\n🔍 Let's peek at the data structure:")
print(f"   Images shape: {digits.images.shape}")
print(f"   Labels shape: {digits.target.shape}")
print(f"   Labels (first 20): {digits.target[:20]}")





# TODO: Print the shape of digits.images
# Hint: Use digits.images.shape

# YOUR CODE HERE:






# Create a 2x5 grid to display 10 sample digits
fig, axes = plt.subplots(2, 5, figsize=(12, 5))
fig.suptitle('🖼️ Sample Handwritten Digits from Our Dataset', fontsize=16, fontweight='bold')

# Display the first 10 digits
for i, ax in enumerate(axes.flat):
    # Display the image
    ax.imshow(digits.images[i], cmap='viridis', interpolation='nearest')
    ax.set_title(f'Label: {digits.target[i]}', fontsize=12, fontweight='bold')
    ax.axis('off')

plt.tight_layout()
plt.show()

print("\n✨ Pretty cool, right? These are real handwritten digits!")
print("📝 Notice how each person writes numbers differently.")
print("🤖 Our AI will learn to recognize ALL these variations!")





# TODO: Create a 1x5 grid showing digits 10-14
# Hint: Use plt.subplots(1, 5) and loop through indices 10 to 14

# YOUR CODE HERE:






# Pick digit at index 0 to examine
sample_index = 0
sample_digit = digits.images[sample_index]
sample_label = digits.target[sample_index]

# Create side-by-side visualization
fig, (ax1, ax2) = plt.subplots(1, 2, figsize=(12, 4))

# Left: Show the image
ax1.imshow(sample_digit, cmap='gray', interpolation='nearest')
ax1.set_title(f'🖼️ Visual Representation\nThis is a "{sample_label}"', fontsize=12, fontweight='bold')
ax1.axis('off')

# Right: Show the numbers
ax2.axis('off')
ax2.set_title('🔢 As Numbers (8x8 Grid)', fontsize=12, fontweight='bold')
table_data = sample_digit.astype(int)
table = ax2.table(cellText=table_data, cellLoc='center', loc='center',
                  bbox=[0, 0, 1, 1])
table.auto_set_font_size(False)
table.set_fontsize(9)
table.scale(1, 2)

plt.tight_layout()
plt.show()

print("\n📊 Understanding the Data:")
print(f"   Image shape: {sample_digit.shape} (8 rows × 8 columns)")
print(f"   When flattened: {digits.data[sample_index].shape} (64 features in one row)")
print(f"   Label (what digit it is): {sample_label}")
print("\n💡 Key Insight:")
print("   Features = The 64 pixel values (our input data)")
print("   Label = The actual digit 0-9 (what we want to predict)")





# Prepare the data
X = digits.data  # Features (64 pixel values per digit)
y = digits.target  # Labels (the actual digit 0-9)

# Split into training (80%) and testing (20%)
X_train, X_test, y_train, y_test = train_test_split(
    X, y, test_size=0.2, random_state=42
)

print("✂️ Data Split Complete!\n")
print("📊 Dataset Breakdown:")
print(f"   Total samples: {len(X)}")
print(f"   Training samples: {len(X_train)} ({len(X_train)/len(X)*100:.1f}%)")
print(f"   Testing samples: {len(X_test)} ({len(X_test)/len(X)*100:.1f}%)")

print("\n🎓 Training Set: Our AI will learn from these")
print(f"   X_train shape: {X_train.shape} (samples × features)")
print(f"   y_train shape: {y_train.shape}")

print("\n🎯 Test Set: We'll evaluate on these UNSEEN digits")
print(f"   X_test shape: {X_test.shape}")
print(f"   y_test shape: {y_test.shape}")

print("\n✅ Ready for training!")





# TODO: Calculate the testing percentage
# Hint: (len(X_test) / len(X)) * 100

# YOUR CODE HERE:






# Create our Random Forest model
# n_estimators=100 means we'll use 100 decision trees
model = RandomForestClassifier(n_estimators=100, random_state=42)

print("🌳 Creating Random Forest with 100 decision trees...\n")
print("📚 Training the model on 1,437 handwritten digits...")
print("⏳ This might take a few seconds...\n")

# Train the model on our training data
model.fit(X_train, y_train)

print("🎉 MODEL TRAINED SUCCESSFULLY! 🎉")
print("\n✨ What just happened?")
print("   1. The model looked at 1,437 handwritten digits")
print("   2. It found patterns in how each digit (0-9) looks")
print("   3. It learned which pixel patterns correspond to which number")
print("   4. Now it's ready to recognize NEW digits it's never seen!")
print("\n🚀 Let's test it out!")








# Use our trained model to predict the test set
y_pred = model.predict(X_test)

print("🔮 Making predictions on 360 unseen digits...\n")

# Show the first 10 predictions vs actual labels
print("📊 First 10 Predictions vs Actual Labels:\n")
print("   Index | Predicted | Actual | Correct?")
print("   " + "-" * 42)

for i in range(10):
    is_correct = "✅" if y_pred[i] == y_test[i] else "❌"
    print(f"   {i:5d} | {y_pred[i]:9d} | {y_test[i]:6d} | {is_correct}")

# Calculate how many were correct
correct_predictions = np.sum(y_pred == y_test)
total_predictions = len(y_test)

print(f"\n🎯 Quick Stats:")
print(f"   Correct predictions: {correct_predictions} out of {total_predictions}")
print(f"   That's {correct_predictions/total_predictions*100:.1f}% accuracy! 🎉")





# TODO: Check if y_pred[5] equals y_test[5]
# Print a message saying if it's correct or not

# YOUR CODE HERE:






# Create a 2x5 grid to visualize 10 predictions
fig, axes = plt.subplots(2, 5, figsize=(14, 6))
fig.suptitle('🎯 Model Predictions vs Actual Labels', fontsize=16, fontweight='bold')

# Get the actual images from the test set
# We need to reshape them back to 8x8 for display
test_images = X_test[:10].reshape(-1, 8, 8)

for i, ax in enumerate(axes.flat):
    # Display the image
    ax.imshow(test_images[i], cmap='Blues', interpolation='nearest')
    
    # Check if prediction is correct
    is_correct = y_pred[i] == y_test[i]
    
    # Set border color: green if correct, red if wrong
    border_color = 'green' if is_correct else 'red'
    status = '✅ Correct!' if is_correct else '❌ Wrong'
    
    # Set title with prediction and actual
    title = f'Predicted: {y_pred[i]}\nActual: {y_test[i]}\n{status}'
    ax.set_title(title, fontsize=10, fontweight='bold', color=border_color)
    
    # Add colored border
    for spine in ax.spines.values():
        spine.set_edgecolor(border_color)
        spine.set_linewidth(3)
    
    ax.axis('off')

plt.tight_layout()
plt.show()

print("\n🎨 Visual Prediction Results:")
correct_in_sample = np.sum(y_pred[:10] == y_test[:10])
print(f"   Correct in this sample: {correct_in_sample}/10")
print(f"   The model is doing great! 🎉")








# Calculate accuracy score
accuracy = accuracy_score(y_test, y_pred)

print("🏆 FINAL MODEL EVALUATION 🏆\n")
print("=" * 50)
print(f"\n   ACCURACY: {accuracy * 100:.2f}%\n")
print("=" * 50)

print("\n💡 What does this mean?")
print(f"   Out of every 100 handwritten digits,")
print(f"   our AI correctly identifies {accuracy * 100:.0f} of them!")
print("\n🎉 That's AMAZING for a first AI project!")

# Show some context
if accuracy > 0.95:
    print("\n🌟 OUTSTANDING! Your model is performing at expert level!")
elif accuracy > 0.90:
    print("\n⭐ EXCELLENT! Your model is highly accurate!")
elif accuracy > 0.85:
    print("\n👍 VERY GOOD! Your model is quite reliable!")
else:
    print("\n📚 GOOD START! There's room for improvement!")


# Create and visualize the confusion matrix
cm = confusion_matrix(y_test, y_pred)

# Create a beautiful heatmap
plt.figure(figsize=(10, 8))
sns.heatmap(cm, annot=True, fmt='d', cmap='Blues', 
            xticklabels=range(10), yticklabels=range(10),
            cbar_kws={'label': 'Number of Predictions'})
plt.title('🎯 Confusion Matrix: Where Does Our AI Make Mistakes?\n', 
          fontsize=14, fontweight='bold')
plt.xlabel('\nPredicted Digit', fontsize=12, fontweight='bold')
plt.ylabel('Actual Digit\n', fontsize=12, fontweight='bold')
plt.tight_layout()
plt.show()

print("\n📊 How to Read the Confusion Matrix:")
print("   - Rows = Actual digit (what it really was)")
print("   - Columns = Predicted digit (what AI thought it was)")
print("   - Diagonal (dark blue) = Correct predictions! ✅")
print("   - Off-diagonal = Mistakes ❌")
print("\n💡 Example: If you see a number at row 3, column 8,")
print("   it means the AI confused a '3' for an '8' that many times.")





# TODO: Analyze the confusion matrix
# Which two digits does the model confuse most?
# Write your answer as a comment or print statement

# YOUR ANSWER HERE:






def test_digit(index):
    """
    Test the model on a specific digit from the test set
    
    Parameters:
    index (int): The index of the test sample to check (0 to 359)
    """
    if index < 0 or index >= len(X_test):
        print(f"❌ Index must be between 0 and {len(X_test)-1}")
        return
    
    # Get the digit and make prediction
    digit_image = X_test[index].reshape(8, 8)
    prediction = model.predict([X_test[index]])[0]
    actual = y_test[index]
    
    # Create visualization
    fig, ax = plt.subplots(1, 1, figsize=(6, 6))
    ax.imshow(digit_image, cmap='viridis', interpolation='nearest')
    
    # Check if correct
    is_correct = prediction == actual
    result = "✅ CORRECT!" if is_correct else "❌ WRONG!"
    color = 'green' if is_correct else 'red'
    
    ax.set_title(f'Test Sample #{index}\n\n' + 
                 f'AI Predicted: {prediction}\n' +
                 f'Actual Label: {actual}\n\n' +
                 f'{result}',
                 fontsize=14, fontweight='bold', color=color)
    ax.axis('off')
    
    # Add border
    for spine in ax.spines.values():
        spine.set_edgecolor(color)
        spine.set_linewidth(4)
    
    plt.tight_layout()
    plt.show()
    
    # Print details
    if is_correct:
        print(f"\n🎯 The AI correctly identified this as a '{actual}'!")
    else:
        print(f"\n🤔 The AI thought this '{actual}' was a '{prediction}'")
        print(f"   Even AI makes mistakes sometimes!")

# Test it on a few examples
print("🎮 Testing AI on specific digits...\n")
test_digit(0)


# Try a few more!
test_digit(25)





# TODO: Call test_digit() three times with indices 50, 100, and 150
# See how the model performs on these different samples

# YOUR CODE HERE:












# TODO: Experiment with different random_state values
# Does it significantly change the accuracy?

# YOUR CODE HERE:






# TODO: Try different n_estimators values
# Compare accuracy and training time

# YOUR CODE HERE:






# TODO: Analyze which digit is hardest for the AI to recognize
# You can calculate accuracy per digit from the confusion matrix

# YOUR CODE HERE:




