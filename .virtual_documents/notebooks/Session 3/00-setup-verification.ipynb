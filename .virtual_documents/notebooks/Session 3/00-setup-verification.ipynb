





print("🔍 Checking library installations...\n")

try:
    import numpy as np
    print("✅ NumPy imported successfully!")
    print(f"   Version: {np.__version__}")
except ImportError as e:
    print("❌ NumPy not found!")
    print(f"   Error: {e}")
    print("   Install with: pip install numpy")

try:
    import pandas as pd
    print("\n✅ Pandas imported successfully!")
    print(f"   Version: {pd.__version__}")
except ImportError as e:
    print("\n❌ Pandas not found!")
    print(f"   Error: {e}")
    print("   Install with: pip install pandas")

try:
    import matplotlib.pyplot as plt
    import matplotlib
    print("\n✅ Matplotlib imported successfully!")
    print(f"   Version: {matplotlib.__version__}")
except ImportError as e:
    print("\n❌ Matplotlib not found!")
    print(f"   Error: {e}")
    print("   Install with: pip install matplotlib")

try:
    import sklearn
    print("\n✅ Scikit-learn imported successfully!")
    print(f"   Version: {sklearn.__version__}")
except ImportError as e:
    print("\n❌ Scikit-learn not found!")
    print(f"   Error: {e}")
    print("   Install with: pip install scikit-learn")

print("\n" + "="*50)
print("🎉 If you see all checkmarks above, you're ready to go!")
print("="*50)








import numpy as np

# Create a simple array
numbers = np.array([1, 2, 3, 4, 5])
print("Original array:", numbers)
print("Multiplied by 2:", numbers * 2)
print("Sum:", numbers.sum())
print("\n✅ NumPy is working perfectly!")





import pandas as pd

# Create a simple DataFrame
data = {
    'Name': ['Alice', 'Bob', 'Charlie'],
    'Age': [25, 30, 35],
    'Score': [85, 90, 95]
}
df = pd.DataFrame(data)
print(df)
print("\n✅ Pandas is working perfectly!")





import matplotlib.pyplot as plt
import numpy as np

# Create a simple line plot
x = np.array([1, 2, 3, 4, 5])
y = np.array([2, 4, 6, 8, 10])

plt.figure(figsize=(8, 4))
plt.plot(x, y, marker='o', color='blue', linewidth=2)
plt.title('Test Plot - If you see this, Matplotlib works!', fontsize=14, fontweight='bold')
plt.xlabel('X values')
plt.ylabel('Y values')
plt.grid(True, alpha=0.3)
plt.show()

print("✅ Matplotlib is working perfectly!")





from sklearn.datasets import load_iris

# Load the famous Iris dataset
iris = load_iris()
print(f"Dataset loaded: {iris.data.shape[0]} samples")
print(f"Features: {iris.feature_names[:2]}... (and more)")
print(f"Target classes: {len(iris.target_names)}")
print("\n✅ Scikit-learn is working perfectly!")





import sys
import platform

print("="*60)
print("🖥️  SYSTEM INFORMATION")
print("="*60)
print(f"Python Version: {sys.version.split()[0]}")
print(f"Platform: {platform.system()} {platform.release()}")
print(f"Architecture: {platform.machine()}")
print("="*60)
print()
print("="*60)
print("📚 INSTALLED LIBRARIES")
print("="*60)

libraries = [
    ('NumPy', 'numpy'),
    ('Pandas', 'pandas'),
    ('Matplotlib', 'matplotlib'),
    ('Scikit-learn', 'sklearn')
]

all_good = True
for name, module_name in libraries:
    try:
        module = __import__(module_name)
        version = getattr(module, '__version__', 'Unknown')
        print(f"✅ {name:15s} v{version}")
    except ImportError:
        print(f"❌ {name:15s} NOT INSTALLED")
        all_good = False

print("="*60)
print()

if all_good:
    print("🎉 " * 15)
    print("    ALL SYSTEMS GO! YOU'RE READY FOR SESSION 3!")
    print("🎉 " * 15)
else:
    print("⚠️  Some libraries are missing. Please install them before continuing.")
    print("   Run: pip install numpy pandas matplotlib scikit-learn")



