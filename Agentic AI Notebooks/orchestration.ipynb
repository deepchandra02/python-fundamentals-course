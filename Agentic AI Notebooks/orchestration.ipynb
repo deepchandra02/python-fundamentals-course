{
 "cells": [
  {
   "cell_type": "markdown",
   "metadata": {},
   "source": [
    "# Orchestration\n",
    "\n",
    "One sophisticated use of JSON mode is in breaking ambitious tasks into subtasks with JSON, then executing specific workflows for each subtask before fusing them together into a final result.\n",
    "\n",
    "In this notebook, we'll explore how to use AI task orchestration to plan a 4-day trip to New York City. Breaking down complex tasks into smaller, manageable subtasks is a powerful technique that can help produce more detailed and coherent results."
   ]
  },
  {
   "cell_type": "markdown",
   "metadata": {},
   "source": [
    "## Setup\n",
    "\n",
    "First, let's import the necessary libraries and set up our connection to the OpenAI API:"
   ]
  },
  {
   "cell_type": "code",
   "execution_count": null,
   "metadata": {},
   "outputs": [],
   "source": [
    "from openai import OpenAI\n",
    "import json\n",
    "\n",
    "client = OpenAI()\n",
    "\n",
    "def get_completion(prompt, system_prompt=\"You are a helpful assistant.\", json_mode=False):\n",
    "    response = client.chat.completions.create(\n",
    "        model=\"gpt-4o\",\n",
    "        messages=[{\"role\": \"system\", \"content\": system_prompt}, {\"role\": \"user\", \"content\": prompt}],\n",
    "        response_format={\"type\": \"json_object\"} if json_mode else None\n",
    "    )\n",
    "    return response.choices[0].message.content"
   ]
  },
  {
   "cell_type": "markdown",
   "metadata": {},
   "source": [
    "## Checkpoint 1/3: Task Planning\n",
    "\n",
    "To illustrate this point, let's create an agentic workflow for travel planning. Relying on the model's innate knowledge, we'll have it plan out a trip to NYC for a family of four on a budget.\n",
    "\n",
    "First, we need to break down our complex task into smaller, manageable subtasks. We'll create a function that uses an LLM to analyze the task and return a JSON list of subtasks. To make things more interesting, we'll specify that each list item should be a dict with `text` and `budget` fields.\n",
    "\n",
    "That way, the initial task will parcel out our total budget to subtasks, giving the subtask prompt useful context."
   ]
  },
  {
   "cell_type": "code",
   "execution_count": null,
   "metadata": {},
   "outputs": [],
   "source": [
    "initial_output = [{\n",
    "    \"text\": \"Text describing the subtask\",\n",
    "    \"budget\": \"amount of money out of the total travel budget to spend on this task\",\n",
    "}\n",
    "# and more...\n",
    "]"
   ]
  },
  {
   "cell_type": "markdown",
   "metadata": {},
   "source": [
    "Let's implement a simple task planning function. In the `<specified_format>` section, add an example of the JSON we should see returned. In the `<budget>` section of the prompt, specify a family budget of $5,000. Then, obtain the model output and store it in `json_string`. Load the JSON into Python in the following line, and then assign to `subtasks` the `\"data\"` field of the result."
   ]
  },
  {
   "cell_type": "code",
   "execution_count": null,
   "metadata": {},
   "outputs": [],
   "source": [
    "def create_subtask_list(prompt):\n",
    "    return get_completion(prompt, json_mode=True)\n",
    "\n",
    "prompt = \"\"\"<task>Your task is to help plan a four day vacation to New York City for a family of four (we live in California.)\n",
    "You'll do so by providing a list of subtasks involved with the trip.\n",
    "Try to cover everything we'll need to have great family memories.\n",
    "Output should be a JSON object with the key 'data' containing a list of subtasks in the format specified below.\n",
    "Each content field should be a description of everything we need to figure out to accomplish this subtask on our trip.\n",
    "Make the content field about one paragraph long.\n",
    "</task>\n",
    "\n",
    "<specified_format>\n",
    "{\"data\": [\n",
    "{\"content\": \"Subtask description and instructions here\",\n",
    "\"budget\": \"Portion of the budget that can be allocated to this subtask\"\n",
    "},\n",
    "# and so on\n",
    "]}}\n",
    "</specified_format>\n",
    "\n",
    "<budget>$5,000</budget>\n",
    "\n",
    "Output ONLY valid JSON below. No markdown backticks.\n",
    "\"\"\"\n",
    "\n",
    "json_string = create_subtask_list(prompt)\n",
    "result = json.loads(json_string)\n",
    "subtasks = result[\"data\"]\n",
    "print(subtasks)"
   ]
  },
  {
   "cell_type": "markdown",
   "metadata": {},
   "source": [
    "## Checkpoint 2/3: Subtask Execution\n",
    "\n",
    "Now that we have our subtasks, we need to execute each one. We'll create a function that takes the subtasks from Checkpoint 1 and generates a response for each subtask using tailored prompts.\n",
    "\n",
    "While we're deliberately keeping this very simple, imagine each of these subtasks involving their own sophisticated workflows—by breaking down our more complex task into these sub-units, we can accomplish a great deal.\n",
    "\n",
    "Initialize an empty list and assign it to `subtask_solutions`. Pass the content and budget of the subtask to the designated fields in the prompt, and then add the model's result to the `subtask_solutions` list.\n",
    "\n",
    "Then, in the `for` loop, call this function on each item in the subtask list."
   ]
  },
  {
   "cell_type": "code",
   "execution_count": null,
   "metadata": {},
   "outputs": [],
   "source": [
    "subtask_solutions = []\n",
    "\n",
    "def execute_subtask(subtask):\n",
    "    prompt = f\"\"\"<task>Your task is to help plan the specified aspect of a family of four's four day trip to New York City.\n",
    "We're coming from California.\n",
    "The task below is one aspect of our overall trip that we want you to plan out for us.\n",
    "Output a 2-3 short sentences using your innate knowledge to offer your final recommendation on what to do and purchase.\n",
    "We've attached a budget for this domain of our trip, out of a total budget of $5,000.\n",
    "Itemize what you'd spend this subsection of the budget on to the best of your knowledge.\n",
    "Being your output with a 1-3 word description of your domain, then the 2-3 short sentences and the itemized spending plan (if needed).\n",
    "</task>\n",
    "\n",
    "<subtask_content>\n",
    "{subtask['content']}\n",
    "</subtask_content>\n",
    "\n",
    "<subtask_budget>\n",
    "{subtask['budget']}\n",
    "</subtask_budget>\"\"\"\n",
    "    result = get_completion(prompt)\n",
    "    subtask_solutions.append(result)\n",
    "\n",
    "for subtask in subtasks:\n",
    "    execute_subtask(subtask)\n",
    "\n",
    "print(subtask_solutions)"
   ]
  },
  {
   "cell_type": "markdown",
   "metadata": {},
   "source": [
    "## Checkpoint 3/3: Result Synthesis\n",
    "\n",
    "Now we'll fuse all this verbose output into a single summary with only the most useful information.\n",
    "\n",
    "We'll begin by concatenating the results of the subtask solutions into a single string.\n",
    "\n",
    "Then specify the kind of report you'd like to get back from the fusion prompt. Put the details of what you want in your report under the \"Output the following\" line in the prompt. Some items to consider:\n",
    "\n",
    "- Offer a detailed, time-based itinerary\n",
    "- List out all purchases\n",
    "- Specify locations, times, and contingency plans\n",
    "- Describe your desired formatting (bullet points, numbered list, markdown headings?)\n",
    "\n",
    "Finally, call the `fuse_solutions` function and assign it to `final_plan`."
   ]
  },
  {
   "cell_type": "code",
   "execution_count": null,
   "metadata": {},
   "outputs": [],
   "source": [
    "def fuse_solutions(subtask_solutions):\n",
    "    # Concatenate all subtask solutions with carriage returns between them\n",
    "    combined_solutions = \"\\n\\n\".join(subtask_solutions)\n",
    "    \n",
    "    prompt = f\"\"\"<task>Your task is to condense a detailed list of plans for our upcoming trip to NYC into a single, short summary.\n",
    "Include only actionable information we can directly use to carry out our vacation.\n",
    "Output the following:\n",
    "- Offer a detailed, time-based itinerary\n",
    "- List out all purchases\n",
    "- Specify locations, times, and contingency plans\n",
    "- Use bullet point lists\n",
    "</task>\n",
    "\n",
    "<detailed_plans>\n",
    "{combined_solutions}\n",
    "</detailed_plans>\"\"\"\n",
    "    \n",
    "    return get_completion(prompt)\n",
    "\n",
    "final_plan = fuse_solutions(subtask_solutions)\n",
    "print(final_plan)"
   ]
  }
 ],
 "metadata": {
  "kernelspec": {
   "display_name": "Python 3",
   "language": "python",
   "name": "python3"
  },
  "language_info": {
   "codemirror_mode": {
    "name": "ipython",
    "version": 3
   },
   "file_extension": ".py",
   "mimetype": "text/x-python",
   "name": "python",
   "nbconvert_exporter": "python",
   "pygments_lexer": "ipython3",
   "version": "3.8.0"
  }
 },
 "nbformat": 4,
 "nbformat_minor": 4
}
